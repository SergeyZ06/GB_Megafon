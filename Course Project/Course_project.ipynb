{
 "cells": [
  {
   "cell_type": "markdown",
   "id": "7c63dcd6",
   "metadata": {},
   "source": [
    "# Курсовой проект от Мегафон"
   ]
  },
  {
   "cell_type": "markdown",
   "id": "e890f4b6",
   "metadata": {},
   "source": [
    "## Подготовка"
   ]
  },
  {
   "cell_type": "markdown",
   "id": "4e2f23ea",
   "metadata": {},
   "source": [
    "### Описание проекта"
   ]
  },
  {
   "cell_type": "markdown",
   "id": "6c56cc01",
   "metadata": {},
   "source": [
    "«МегаФон» предлагает обширный набор различных услуг своим абонентам. При этом разным пользователям интересны разные услуги.\n",
    "\n",
    "Необходимо построить алгоритм, который для каждой пары пользователь-услуга определит вероятность подключения услуги."
   ]
  },
  {
   "cell_type": "markdown",
   "id": "8e7c382a",
   "metadata": {},
   "source": [
    "### Импорт библиотек"
   ]
  },
  {
   "cell_type": "code",
   "execution_count": 1,
   "id": "23f035dd",
   "metadata": {},
   "outputs": [],
   "source": [
    "import numpy as np\n",
    "import pandas as pd\n",
    "\n",
    "from matplotlib import pyplot as plt\n",
    "\n",
    "from sklearn.base import BaseEstimator\n",
    "from sklearn.base import TransformerMixin\n",
    "\n",
    "from sklearn.preprocessing import OneHotEncoder\n",
    "from sklearn.preprocessing import StandardScaler\n",
    "\n",
    "from sklearn.pipeline import Pipeline\n",
    "from sklearn.pipeline import FeatureUnion\n",
    "\n",
    "from sklearn.model_selection import train_test_split\n",
    "\n",
    "from catboost import CatBoostClassifier\n",
    "\n",
    "from sklearn.metrics import classification_report\n",
    "from sklearn.metrics import precision_recall_curve\n",
    "from sklearn.metrics import roc_curve\n",
    "from sklearn.metrics import auc\n",
    "\n",
    "# from scikitplot.metrics import plot_roc_curve\n",
    "\n",
    "import pickle"
   ]
  },
  {
   "cell_type": "markdown",
   "id": "dc179a13",
   "metadata": {},
   "source": [
    "### Импорт данных"
   ]
  },
  {
   "cell_type": "code",
   "execution_count": 2,
   "id": "9b1b795c",
   "metadata": {},
   "outputs": [],
   "source": [
    "# Исходные данные:\n",
    "PATH_DATA__DATA_TEST = r'data_test.csv'\n",
    "PATH_DATA__DATA_TRAIN = r'data_train.csv'\n",
    "PATH_DATA__FEATURES = r'features.csv'\n",
    "\n",
    "# Обработанные данные:\n",
    "PATH_DATA__FEATURES_TRAIN = r'features_train.csv'\n",
    "PATH_DATA__FEATURES_TEST = r'features_test.csv'\n",
    "\n",
    "# Модель:\n",
    "PATH_MODEL = r'model.pkl'\n",
    "\n",
    "# Ответы модели:\n",
    "PATH_DATA__ANSWERS = r'answers_test.csv'"
   ]
  },
  {
   "cell_type": "markdown",
   "id": "5989a771",
   "metadata": {},
   "source": [
    "### Описание данных"
   ]
  },
  {
   "cell_type": "markdown",
   "id": "100094f5",
   "metadata": {},
   "source": [
    "В качестве исходных данных предоставлена информация об отклике абонентов на предложение подключения одной из услуг. Каждому пользователю может быть сделано несколько предложений в разное время, каждое из которых он может или принять, или отклонить.\n",
    "\n",
    "Отдельным набором данных является нормализованный анонимизированный набор признаков, характеризующий профиль потребления\n",
    "абонента. Эти данные привязаны к определенному времени, поскольку профиль абонента может меняться с течением времени.\n",
    "\n",
    "Данные train и test разбиты по периодам – на train доступно 4 месяцев, а на test отложен последующий месяц.\n",
    "\n",
    "Итого, в качестве входных данных будут представлены:\n",
    "- data_train.csv: id, vas_id, buy_time, target;\n",
    "- features.csv.zip: id, < feature_list >.\n",
    "\n",
    "И тестовый набор:\n",
    "- data_test.csv: id, vas_id, buy_time:\n",
    "- - target - целевая переменная, где 1 означает подключение услуги, 0 - абонент не подключил услугу соответственно;\n",
    "- - buy_time - время покупки, представлено в формате timestamp, для работы с этим столбцом понадобится функция datetime.fromtimestamp из модуля datetime;\n",
    "- - id - идентификатор абонента;\n",
    "- - vas_id - подключаемая услуга."
   ]
  },
  {
   "cell_type": "markdown",
   "id": "02aadeff",
   "metadata": {},
   "source": [
    "### Глобальные настройки"
   ]
  },
  {
   "cell_type": "code",
   "execution_count": 3,
   "id": "150a6b21",
   "metadata": {},
   "outputs": [],
   "source": [
    "# Случайное зерно.\n",
    "GLOBAL__RANDOM_STATE = 0\n",
    "\n",
    "# Формат отображение чисел в Pandas.\n",
    "# pd.reset_option('display.float_format', silent=True)\n",
    "# pd.set_option('display.float_format', lambda x: f'%.{len(str(x%1))-2}f' % x)\n",
    "pd.set_option('display.float_format', lambda x: '%.2f' % x)"
   ]
  },
  {
   "cell_type": "markdown",
   "id": "9af4a758",
   "metadata": {},
   "source": [
    "### Функция \"Reduce Memory Usage\""
   ]
  },
  {
   "cell_type": "code",
   "execution_count": 4,
   "id": "8365ebbf",
   "metadata": {},
   "outputs": [],
   "source": [
    "# Функция для сокращения объёма потребляемой памяти для хранения таблиц данных.\n",
    "def reduce_memory_usage(df):\n",
    "    \n",
    "    # СДЕЛАТЬ ПРОВЕРКУ type(df) == pd.DataFrame\n",
    "    \n",
    "    initial_memory_usage = df.memory_usage().sum() / 1024 / 1024\n",
    "    print(f'Initial memory usage of dataframe:\\t{initial_memory_usage:.6} Mb')\n",
    "#     print(f'Initial memory usage of dataframe:\\t{initial_memory_usage} Mb')\n",
    "    \n",
    "    for col in df.columns:\n",
    "        col_type = df[col].dtype\n",
    "        \n",
    "        if col_type != 'object':\n",
    "            c_min = df[col].min()\n",
    "            c_max = df[col].max()\n",
    "            \n",
    "            if str(col_type)[:3] == 'int':\n",
    "                if c_min > np.iinfo(np.int8).min and c_max < np.iinfo(np.int8).max:\n",
    "                    df[col] = df[col].astype(np.int8)\n",
    "                elif c_min > np.iinfo(np.int16).min and c_max < np.iinfo(np.int16).max:\n",
    "                    df[col] = df[col].astype(np.int16)\n",
    "                elif c_min > np.iinfo(np.int32).min and c_max < np.iinfo(np.int32).max:\n",
    "                    df[col] = df[col].astype(np.int32)\n",
    "                elif c_min > np.iinfo(np.int64).min and c_max < np.iinfo(np.int64).max:\n",
    "                    df[col] = df[col].astype(np.int64)\n",
    "            \n",
    "            # Можно было бы сделать оптимизацию вплоть до типа \"float16\", однако данный тип данных,\n",
    "            # как сообщается от сообщества аналитиков данных, плохо поддерживается некоторыми библиотеками\n",
    "            \n",
    "            if str(col_type)[:5] == 'float':\n",
    "                if c_min > np.finfo(np.float32).min and c_max < np.finfo(np.float32).max:\n",
    "                    df[col] = df[col].astype(np.float32)\n",
    "                elif c_min > np.finfo(np.float64).min and c_max < np.finfo(np.float64).max:\n",
    "                    df[col] = df[col].astype(np.float64)\n",
    "        \n",
    "        else:\n",
    "            df[col] = df[col].astype('category')\n",
    "    \n",
    "    final_memory_usage = df.memory_usage().sum() / 1024 / 1024\n",
    "    print(f'Final memory usage of dataframe:\\t{final_memory_usage:.6} Mb')\n",
    "#     print(f'Final memory usage of dataframe:\\t{final_memory_usage} Mb')\n",
    "    \n",
    "    comparison = np.round(100 * (initial_memory_usage - final_memory_usage) / initial_memory_usage, 3)\n",
    "    print(f'Memory usage has been decreased by:\\t{comparison} %')\n",
    "    \n",
    "    return df"
   ]
  },
  {
   "cell_type": "markdown",
   "id": "5e053dd0",
   "metadata": {},
   "source": [
    "## Загрузка, анализ и предобработка данных"
   ]
  },
  {
   "cell_type": "markdown",
   "id": "565184a8",
   "metadata": {},
   "source": [
    "### Обучающая выборка"
   ]
  },
  {
   "cell_type": "code",
   "execution_count": 5,
   "id": "20f575ec",
   "metadata": {},
   "outputs": [],
   "source": [
    "# Загрузка данных пользователей обучающей выборки.\n",
    "df_train = pd.read_csv(PATH_DATA__DATA_TRAIN)"
   ]
  },
  {
   "cell_type": "code",
   "execution_count": 6,
   "id": "78f6b9cd",
   "metadata": {},
   "outputs": [
    {
     "data": {
      "text/plain": [
       "(831653, 5)"
      ]
     },
     "execution_count": 6,
     "metadata": {},
     "output_type": "execute_result"
    }
   ],
   "source": [
    "# Вывод размерности таблицы.\n",
    "df_train.shape"
   ]
  },
  {
   "cell_type": "code",
   "execution_count": 7,
   "id": "498f246a",
   "metadata": {},
   "outputs": [
    {
     "data": {
      "text/html": [
       "<div>\n",
       "<style scoped>\n",
       "    .dataframe tbody tr th:only-of-type {\n",
       "        vertical-align: middle;\n",
       "    }\n",
       "\n",
       "    .dataframe tbody tr th {\n",
       "        vertical-align: top;\n",
       "    }\n",
       "\n",
       "    .dataframe thead th {\n",
       "        text-align: right;\n",
       "    }\n",
       "</style>\n",
       "<table border=\"1\" class=\"dataframe\">\n",
       "  <thead>\n",
       "    <tr style=\"text-align: right;\">\n",
       "      <th></th>\n",
       "      <th>Unnamed: 0</th>\n",
       "      <th>id</th>\n",
       "      <th>vas_id</th>\n",
       "      <th>buy_time</th>\n",
       "      <th>target</th>\n",
       "    </tr>\n",
       "  </thead>\n",
       "  <tbody>\n",
       "    <tr>\n",
       "      <th>0</th>\n",
       "      <td>0</td>\n",
       "      <td>540968</td>\n",
       "      <td>8.00</td>\n",
       "      <td>1537131600</td>\n",
       "      <td>0.00</td>\n",
       "    </tr>\n",
       "    <tr>\n",
       "      <th>1</th>\n",
       "      <td>1</td>\n",
       "      <td>1454121</td>\n",
       "      <td>4.00</td>\n",
       "      <td>1531688400</td>\n",
       "      <td>0.00</td>\n",
       "    </tr>\n",
       "    <tr>\n",
       "      <th>2</th>\n",
       "      <td>2</td>\n",
       "      <td>2458816</td>\n",
       "      <td>1.00</td>\n",
       "      <td>1534107600</td>\n",
       "      <td>0.00</td>\n",
       "    </tr>\n",
       "    <tr>\n",
       "      <th>3</th>\n",
       "      <td>3</td>\n",
       "      <td>3535012</td>\n",
       "      <td>5.00</td>\n",
       "      <td>1535922000</td>\n",
       "      <td>0.00</td>\n",
       "    </tr>\n",
       "    <tr>\n",
       "      <th>4</th>\n",
       "      <td>4</td>\n",
       "      <td>1693214</td>\n",
       "      <td>1.00</td>\n",
       "      <td>1535922000</td>\n",
       "      <td>0.00</td>\n",
       "    </tr>\n",
       "  </tbody>\n",
       "</table>\n",
       "</div>"
      ],
      "text/plain": [
       "   Unnamed: 0       id  vas_id    buy_time  target\n",
       "0           0   540968    8.00  1537131600    0.00\n",
       "1           1  1454121    4.00  1531688400    0.00\n",
       "2           2  2458816    1.00  1534107600    0.00\n",
       "3           3  3535012    5.00  1535922000    0.00\n",
       "4           4  1693214    1.00  1535922000    0.00"
      ]
     },
     "execution_count": 7,
     "metadata": {},
     "output_type": "execute_result"
    }
   ],
   "source": [
    "# Вывод первых пяти строк.\n",
    "df_train.head()"
   ]
  },
  {
   "cell_type": "code",
   "execution_count": 8,
   "id": "5478a146",
   "metadata": {},
   "outputs": [
    {
     "name": "stdout",
     "output_type": "stream",
     "text": [
      "<class 'pandas.core.frame.DataFrame'>\n",
      "RangeIndex: 831653 entries, 0 to 831652\n",
      "Data columns (total 5 columns):\n",
      " #   Column      Non-Null Count   Dtype  \n",
      "---  ------      --------------   -----  \n",
      " 0   Unnamed: 0  831653 non-null  int64  \n",
      " 1   id          831653 non-null  int64  \n",
      " 2   vas_id      831653 non-null  float64\n",
      " 3   buy_time    831653 non-null  int64  \n",
      " 4   target      831653 non-null  float64\n",
      "dtypes: float64(2), int64(3)\n",
      "memory usage: 31.7 MB\n"
     ]
    }
   ],
   "source": [
    "# Вывод основной информации о данных.\n",
    "df_train.info()"
   ]
  },
  {
   "cell_type": "code",
   "execution_count": 9,
   "id": "196ef3d1",
   "metadata": {},
   "outputs": [
    {
     "data": {
      "text/html": [
       "<div>\n",
       "<style scoped>\n",
       "    .dataframe tbody tr th:only-of-type {\n",
       "        vertical-align: middle;\n",
       "    }\n",
       "\n",
       "    .dataframe tbody tr th {\n",
       "        vertical-align: top;\n",
       "    }\n",
       "\n",
       "    .dataframe thead th {\n",
       "        text-align: right;\n",
       "    }\n",
       "</style>\n",
       "<table border=\"1\" class=\"dataframe\">\n",
       "  <thead>\n",
       "    <tr style=\"text-align: right;\">\n",
       "      <th></th>\n",
       "      <th>count</th>\n",
       "      <th>mean</th>\n",
       "      <th>std</th>\n",
       "      <th>min</th>\n",
       "      <th>25%</th>\n",
       "      <th>50%</th>\n",
       "      <th>75%</th>\n",
       "      <th>max</th>\n",
       "    </tr>\n",
       "  </thead>\n",
       "  <tbody>\n",
       "    <tr>\n",
       "      <th>Unnamed: 0</th>\n",
       "      <td>831653.00</td>\n",
       "      <td>415826.00</td>\n",
       "      <td>240077.69</td>\n",
       "      <td>0.00</td>\n",
       "      <td>207913.00</td>\n",
       "      <td>415826.00</td>\n",
       "      <td>623739.00</td>\n",
       "      <td>831652.00</td>\n",
       "    </tr>\n",
       "    <tr>\n",
       "      <th>id</th>\n",
       "      <td>831653.00</td>\n",
       "      <td>2158303.53</td>\n",
       "      <td>1257906.92</td>\n",
       "      <td>2.00</td>\n",
       "      <td>1067319.00</td>\n",
       "      <td>2144574.00</td>\n",
       "      <td>3244254.00</td>\n",
       "      <td>4362694.00</td>\n",
       "    </tr>\n",
       "    <tr>\n",
       "      <th>vas_id</th>\n",
       "      <td>831653.00</td>\n",
       "      <td>2.69</td>\n",
       "      <td>1.95</td>\n",
       "      <td>1.00</td>\n",
       "      <td>1.00</td>\n",
       "      <td>2.00</td>\n",
       "      <td>4.00</td>\n",
       "      <td>9.00</td>\n",
       "    </tr>\n",
       "    <tr>\n",
       "      <th>buy_time</th>\n",
       "      <td>831653.00</td>\n",
       "      <td>1538936618.78</td>\n",
       "      <td>5019052.85</td>\n",
       "      <td>1531083600.00</td>\n",
       "      <td>1534107600.00</td>\n",
       "      <td>1538341200.00</td>\n",
       "      <td>1544389200.00</td>\n",
       "      <td>1546203600.00</td>\n",
       "    </tr>\n",
       "    <tr>\n",
       "      <th>target</th>\n",
       "      <td>831653.00</td>\n",
       "      <td>0.07</td>\n",
       "      <td>0.26</td>\n",
       "      <td>0.00</td>\n",
       "      <td>0.00</td>\n",
       "      <td>0.00</td>\n",
       "      <td>0.00</td>\n",
       "      <td>1.00</td>\n",
       "    </tr>\n",
       "  </tbody>\n",
       "</table>\n",
       "</div>"
      ],
      "text/plain": [
       "               count          mean        std           min           25%  \\\n",
       "Unnamed: 0 831653.00     415826.00  240077.69          0.00     207913.00   \n",
       "id         831653.00    2158303.53 1257906.92          2.00    1067319.00   \n",
       "vas_id     831653.00          2.69       1.95          1.00          1.00   \n",
       "buy_time   831653.00 1538936618.78 5019052.85 1531083600.00 1534107600.00   \n",
       "target     831653.00          0.07       0.26          0.00          0.00   \n",
       "\n",
       "                     50%           75%           max  \n",
       "Unnamed: 0     415826.00     623739.00     831652.00  \n",
       "id            2144574.00    3244254.00    4362694.00  \n",
       "vas_id              2.00          4.00          9.00  \n",
       "buy_time   1538341200.00 1544389200.00 1546203600.00  \n",
       "target              0.00          0.00          1.00  "
      ]
     },
     "execution_count": 9,
     "metadata": {},
     "output_type": "execute_result"
    }
   ],
   "source": [
    "# Вывод основных статистик данных.\n",
    "df_train.describe().T"
   ]
  },
  {
   "cell_type": "markdown",
   "id": "4c9a46e5",
   "metadata": {},
   "source": [
    "#### Изучение признака \"Unnamed: 0\""
   ]
  },
  {
   "cell_type": "markdown",
   "id": "1ab59ac9",
   "metadata": {},
   "source": [
    "При визуальном анализе первых пяти строк было установлено, что признак <code>Unnamed: 0</code> совпадает с индексом в таблице.\n",
    "\n",
    "Проверим предположение, что это и есть индекс."
   ]
  },
  {
   "cell_type": "code",
   "execution_count": 10,
   "id": "726127d6",
   "metadata": {},
   "outputs": [
    {
     "data": {
      "text/plain": [
       "0"
      ]
     },
     "execution_count": 10,
     "metadata": {},
     "output_type": "execute_result"
    }
   ],
   "source": [
    "# Проверка: вывод количества строк, где поле \"Unnamed: 0\" не совпадает с индексом таблицы.\n",
    "(df_train.iloc[:, 0] != df_train.index).sum()"
   ]
  },
  {
   "cell_type": "markdown",
   "id": "2d6c3d2c",
   "metadata": {},
   "source": [
    "Во всех строках значения признака совпали с индексом таблицы, предположение подтвердилось.\n",
    "\n",
    "Данный признак можно удалить как неинформативный."
   ]
  },
  {
   "cell_type": "code",
   "execution_count": 11,
   "id": "70a5a650",
   "metadata": {},
   "outputs": [
    {
     "name": "stdout",
     "output_type": "stream",
     "text": [
      "<class 'pandas.core.frame.DataFrame'>\n",
      "RangeIndex: 831653 entries, 0 to 831652\n",
      "Data columns (total 4 columns):\n",
      " #   Column    Non-Null Count   Dtype  \n",
      "---  ------    --------------   -----  \n",
      " 0   id        831653 non-null  int64  \n",
      " 1   vas_id    831653 non-null  float64\n",
      " 2   buy_time  831653 non-null  int64  \n",
      " 3   target    831653 non-null  float64\n",
      "dtypes: float64(2), int64(2)\n",
      "memory usage: 25.4 MB\n"
     ]
    }
   ],
   "source": [
    "# Удаление поля \"Unnamed: 0\", так как оно не является информативным.\n",
    "df_train = df_train.drop(columns=['Unnamed: 0'])\n",
    "\n",
    "# Проверка: вывод основной информации о данных.\n",
    "df_train.info()"
   ]
  },
  {
   "cell_type": "markdown",
   "id": "2143d724",
   "metadata": {},
   "source": [
    "#### Изучение признака \"id\""
   ]
  },
  {
   "cell_type": "code",
   "execution_count": 12,
   "id": "4705419c",
   "metadata": {},
   "outputs": [
    {
     "data": {
      "text/plain": [
       "25040"
      ]
     },
     "execution_count": 12,
     "metadata": {},
     "output_type": "execute_result"
    }
   ],
   "source": [
    "# Вывод количества дубликатов уникального идентификатора пользователя \"id\".\n",
    "df_train['id'].duplicated().sum()"
   ]
  },
  {
   "cell_type": "markdown",
   "id": "8ff002b4",
   "metadata": {},
   "source": [
    "Среди уникальных идентификаторов обнаружены дубли, значит для некоторых пользователей содержится несколько записей."
   ]
  },
  {
   "cell_type": "markdown",
   "id": "6ee963a5",
   "metadata": {},
   "source": [
    "#### Изучение признака \"buy_time\""
   ]
  },
  {
   "cell_type": "code",
   "execution_count": 13,
   "id": "dd91409f",
   "metadata": {
    "scrolled": true
   },
   "outputs": [
    {
     "data": {
      "text/plain": [
       "831627"
      ]
     },
     "execution_count": 13,
     "metadata": {},
     "output_type": "execute_result"
    }
   ],
   "source": [
    "# Вывод количества дубликатов уникального идентификатора пользователя \"id\".\n",
    "df_train['buy_time'].duplicated().sum()"
   ]
  },
  {
   "cell_type": "markdown",
   "id": "67dd4d09",
   "metadata": {},
   "source": [
    "Данный признак содержит значительное число дублей.\n",
    "\n",
    "Проверим, представляет ли сочетание признаков \"id\" и \"buy_time\" уникальный идентификатор."
   ]
  },
  {
   "cell_type": "code",
   "execution_count": 14,
   "id": "7cf3e16f",
   "metadata": {},
   "outputs": [
    {
     "data": {
      "text/plain": [
       "92"
      ]
     },
     "execution_count": 14,
     "metadata": {},
     "output_type": "execute_result"
    }
   ],
   "source": [
    "# Вывод количества дубликатов с идентичными признаками \"id\" и \"buy_time\".\n",
    "df_train['id'].astype('str').str.cat(df_train['buy_time'].astype('str'), sep='_').duplicated().sum()"
   ]
  },
  {
   "cell_type": "code",
   "execution_count": 15,
   "id": "f52fbbbc",
   "metadata": {},
   "outputs": [
    {
     "data": {
      "text/plain": [
       "0"
      ]
     },
     "execution_count": 15,
     "metadata": {},
     "output_type": "execute_result"
    }
   ],
   "source": [
    "# Вывод количества дубликатов с идентичными признаками \"id\", \"buy_time\" и \"vas_id\".\n",
    "df_train['id'].astype('str').str.cat(\n",
    "    [df_train['buy_time'].astype('str'), df_train['vas_id'].astype('str')], sep='_').duplicated().sum()"
   ]
  },
  {
   "cell_type": "markdown",
   "id": "69b0445f",
   "metadata": {},
   "source": [
    "Только сочетание трёх признаков \"id\", \"buy_time\", \"vas_id\" уникально идентифицировать запись:\n",
    "- важен уникальный идентификатор пользователя \"id\";\n",
    "- важно время покупки \"buy_time\", так как пользователь мог совершать разные покупки в разное время;\n",
    "- важна подключаемая услуга \"vas_id\", так как пользователь мог единовременно воспользоваться сразу несколькими услугами."
   ]
  },
  {
   "cell_type": "markdown",
   "id": "421a1f6c",
   "metadata": {},
   "source": [
    "#### Изучение признака \"vas_id\""
   ]
  },
  {
   "cell_type": "code",
   "execution_count": 16,
   "id": "31a9b339",
   "metadata": {},
   "outputs": [
    {
     "data": {
      "text/plain": [
       "1.00    37.30%\n",
       "2.00    30.00%\n",
       "5.00    11.31%\n",
       "4.00    10.31%\n",
       "6.00     6.96%\n",
       "7.00     1.86%\n",
       "8.00     1.61%\n",
       "9.00     0.66%\n",
       "Name: vas_id, dtype: object"
      ]
     },
     "execution_count": 16,
     "metadata": {},
     "output_type": "execute_result"
    }
   ],
   "source": [
    "df_train['vas_id'].value_counts(normalize=True).apply(lambda x: f'{x:.2%}')"
   ]
  },
  {
   "cell_type": "markdown",
   "id": "54bfa4d6",
   "metadata": {},
   "source": [
    "Вид услуги является категориальным признаком.\n",
    "\n",
    "Наиболее часто встречаются услуги с идентификатором \"1\" и \"2\"."
   ]
  },
  {
   "cell_type": "markdown",
   "id": "f25eec1c",
   "metadata": {},
   "source": [
    "#### Изучение признака \"target\""
   ]
  },
  {
   "cell_type": "code",
   "execution_count": 17,
   "id": "6ddc3704",
   "metadata": {},
   "outputs": [
    {
     "data": {
      "text/plain": [
       "0.00    92.76%\n",
       "1.00     7.24%\n",
       "Name: target, dtype: object"
      ]
     },
     "execution_count": 17,
     "metadata": {},
     "output_type": "execute_result"
    }
   ],
   "source": [
    "df_train['target'].value_counts(normalize=True).apply(lambda x: f'{x:.2%}')"
   ]
  },
  {
   "cell_type": "markdown",
   "id": "94cb0399",
   "metadata": {},
   "source": [
    "Большинство пользователей не подключили услугу.\n",
    "\n",
    "**Наблюдается дисбаланс классов целевой переменной.**"
   ]
  },
  {
   "cell_type": "markdown",
   "id": "84b6a6d0",
   "metadata": {},
   "source": [
    "#### Предобработка данных"
   ]
  },
  {
   "cell_type": "code",
   "execution_count": 18,
   "id": "633e82cf",
   "metadata": {},
   "outputs": [
    {
     "name": "stdout",
     "output_type": "stream",
     "text": [
      "Initial memory usage of dataframe:\t25.3802 Mb\n",
      "Final memory usage of dataframe:\t12.6901 Mb\n",
      "Memory usage has been decreased by:\t50.0 %\n"
     ]
    }
   ],
   "source": [
    "# Сокращение объёма потребляемой памяти.\n",
    "df_train = reduce_memory_usage(df_train)"
   ]
  },
  {
   "cell_type": "markdown",
   "id": "a078bbdc",
   "metadata": {},
   "source": [
    "### Тестовая выборка"
   ]
  },
  {
   "cell_type": "code",
   "execution_count": 19,
   "id": "7c11dcec",
   "metadata": {},
   "outputs": [],
   "source": [
    "# Загрузка данных пользователей тестовой выборки.\n",
    "df_test = pd.read_csv(PATH_DATA__DATA_TEST)"
   ]
  },
  {
   "cell_type": "code",
   "execution_count": 20,
   "id": "6bc5a15a",
   "metadata": {},
   "outputs": [
    {
     "data": {
      "text/plain": [
       "(71231, 4)"
      ]
     },
     "execution_count": 20,
     "metadata": {},
     "output_type": "execute_result"
    }
   ],
   "source": [
    "# Вывод размерности таблицы.\n",
    "df_test.shape"
   ]
  },
  {
   "cell_type": "code",
   "execution_count": 21,
   "id": "a7332913",
   "metadata": {},
   "outputs": [
    {
     "data": {
      "text/html": [
       "<div>\n",
       "<style scoped>\n",
       "    .dataframe tbody tr th:only-of-type {\n",
       "        vertical-align: middle;\n",
       "    }\n",
       "\n",
       "    .dataframe tbody tr th {\n",
       "        vertical-align: top;\n",
       "    }\n",
       "\n",
       "    .dataframe thead th {\n",
       "        text-align: right;\n",
       "    }\n",
       "</style>\n",
       "<table border=\"1\" class=\"dataframe\">\n",
       "  <thead>\n",
       "    <tr style=\"text-align: right;\">\n",
       "      <th></th>\n",
       "      <th>Unnamed: 0</th>\n",
       "      <th>id</th>\n",
       "      <th>vas_id</th>\n",
       "      <th>buy_time</th>\n",
       "    </tr>\n",
       "  </thead>\n",
       "  <tbody>\n",
       "    <tr>\n",
       "      <th>0</th>\n",
       "      <td>0</td>\n",
       "      <td>3130519</td>\n",
       "      <td>2.00</td>\n",
       "      <td>1548018000</td>\n",
       "    </tr>\n",
       "    <tr>\n",
       "      <th>1</th>\n",
       "      <td>1</td>\n",
       "      <td>2000860</td>\n",
       "      <td>4.00</td>\n",
       "      <td>1548018000</td>\n",
       "    </tr>\n",
       "    <tr>\n",
       "      <th>2</th>\n",
       "      <td>2</td>\n",
       "      <td>1099444</td>\n",
       "      <td>2.00</td>\n",
       "      <td>1546808400</td>\n",
       "    </tr>\n",
       "    <tr>\n",
       "      <th>3</th>\n",
       "      <td>3</td>\n",
       "      <td>1343255</td>\n",
       "      <td>5.00</td>\n",
       "      <td>1547413200</td>\n",
       "    </tr>\n",
       "    <tr>\n",
       "      <th>4</th>\n",
       "      <td>4</td>\n",
       "      <td>1277040</td>\n",
       "      <td>2.00</td>\n",
       "      <td>1546808400</td>\n",
       "    </tr>\n",
       "  </tbody>\n",
       "</table>\n",
       "</div>"
      ],
      "text/plain": [
       "   Unnamed: 0       id  vas_id    buy_time\n",
       "0           0  3130519    2.00  1548018000\n",
       "1           1  2000860    4.00  1548018000\n",
       "2           2  1099444    2.00  1546808400\n",
       "3           3  1343255    5.00  1547413200\n",
       "4           4  1277040    2.00  1546808400"
      ]
     },
     "execution_count": 21,
     "metadata": {},
     "output_type": "execute_result"
    }
   ],
   "source": [
    "# Вывод первых пяти строк.\n",
    "df_test.head()"
   ]
  },
  {
   "cell_type": "code",
   "execution_count": 22,
   "id": "0528945a",
   "metadata": {},
   "outputs": [
    {
     "name": "stdout",
     "output_type": "stream",
     "text": [
      "<class 'pandas.core.frame.DataFrame'>\n",
      "RangeIndex: 71231 entries, 0 to 71230\n",
      "Data columns (total 4 columns):\n",
      " #   Column      Non-Null Count  Dtype  \n",
      "---  ------      --------------  -----  \n",
      " 0   Unnamed: 0  71231 non-null  int64  \n",
      " 1   id          71231 non-null  int64  \n",
      " 2   vas_id      71231 non-null  float64\n",
      " 3   buy_time    71231 non-null  int64  \n",
      "dtypes: float64(1), int64(3)\n",
      "memory usage: 2.2 MB\n"
     ]
    }
   ],
   "source": [
    "# Вывод основной информации о данных.\n",
    "df_test.info()"
   ]
  },
  {
   "cell_type": "code",
   "execution_count": 23,
   "id": "90cadd19",
   "metadata": {},
   "outputs": [
    {
     "data": {
      "text/html": [
       "<div>\n",
       "<style scoped>\n",
       "    .dataframe tbody tr th:only-of-type {\n",
       "        vertical-align: middle;\n",
       "    }\n",
       "\n",
       "    .dataframe tbody tr th {\n",
       "        vertical-align: top;\n",
       "    }\n",
       "\n",
       "    .dataframe thead th {\n",
       "        text-align: right;\n",
       "    }\n",
       "</style>\n",
       "<table border=\"1\" class=\"dataframe\">\n",
       "  <thead>\n",
       "    <tr style=\"text-align: right;\">\n",
       "      <th></th>\n",
       "      <th>count</th>\n",
       "      <th>mean</th>\n",
       "      <th>std</th>\n",
       "      <th>min</th>\n",
       "      <th>25%</th>\n",
       "      <th>50%</th>\n",
       "      <th>75%</th>\n",
       "      <th>max</th>\n",
       "    </tr>\n",
       "  </thead>\n",
       "  <tbody>\n",
       "    <tr>\n",
       "      <th>Unnamed: 0</th>\n",
       "      <td>71231.00</td>\n",
       "      <td>35615.00</td>\n",
       "      <td>20562.76</td>\n",
       "      <td>0.00</td>\n",
       "      <td>17807.50</td>\n",
       "      <td>35615.00</td>\n",
       "      <td>53422.50</td>\n",
       "      <td>71230.00</td>\n",
       "    </tr>\n",
       "    <tr>\n",
       "      <th>id</th>\n",
       "      <td>71231.00</td>\n",
       "      <td>2153308.01</td>\n",
       "      <td>1261505.79</td>\n",
       "      <td>55.00</td>\n",
       "      <td>1053974.00</td>\n",
       "      <td>2135540.00</td>\n",
       "      <td>3247489.50</td>\n",
       "      <td>4362720.00</td>\n",
       "    </tr>\n",
       "    <tr>\n",
       "      <th>vas_id</th>\n",
       "      <td>71231.00</td>\n",
       "      <td>3.44</td>\n",
       "      <td>1.97</td>\n",
       "      <td>1.00</td>\n",
       "      <td>2.00</td>\n",
       "      <td>2.00</td>\n",
       "      <td>5.00</td>\n",
       "      <td>9.00</td>\n",
       "    </tr>\n",
       "    <tr>\n",
       "      <th>buy_time</th>\n",
       "      <td>71231.00</td>\n",
       "      <td>1547314945.79</td>\n",
       "      <td>442256.93</td>\n",
       "      <td>1546808400.00</td>\n",
       "      <td>1546808400.00</td>\n",
       "      <td>1547413200.00</td>\n",
       "      <td>1547413200.00</td>\n",
       "      <td>1548018000.00</td>\n",
       "    </tr>\n",
       "  </tbody>\n",
       "</table>\n",
       "</div>"
      ],
      "text/plain": [
       "              count          mean        std           min           25%  \\\n",
       "Unnamed: 0 71231.00      35615.00   20562.76          0.00      17807.50   \n",
       "id         71231.00    2153308.01 1261505.79         55.00    1053974.00   \n",
       "vas_id     71231.00          3.44       1.97          1.00          2.00   \n",
       "buy_time   71231.00 1547314945.79  442256.93 1546808400.00 1546808400.00   \n",
       "\n",
       "                     50%           75%           max  \n",
       "Unnamed: 0      35615.00      53422.50      71230.00  \n",
       "id            2135540.00    3247489.50    4362720.00  \n",
       "vas_id              2.00          5.00          9.00  \n",
       "buy_time   1547413200.00 1547413200.00 1548018000.00  "
      ]
     },
     "execution_count": 23,
     "metadata": {},
     "output_type": "execute_result"
    }
   ],
   "source": [
    "# Вывод основных статистик данных.\n",
    "df_test.describe().T"
   ]
  },
  {
   "cell_type": "markdown",
   "id": "81ccf97d",
   "metadata": {},
   "source": [
    "#### Изучение признака \"Unnamed: 0\""
   ]
  },
  {
   "cell_type": "code",
   "execution_count": 24,
   "id": "4cb01e8a",
   "metadata": {},
   "outputs": [
    {
     "data": {
      "text/plain": [
       "0"
      ]
     },
     "execution_count": 24,
     "metadata": {},
     "output_type": "execute_result"
    }
   ],
   "source": [
    "# Проверка: вывод количества строк, где поле \"Unnamed: 0\" не совпадает с индексом таблицы.\n",
    "(df_test.iloc[:, 0] != df_test.index).sum()"
   ]
  },
  {
   "cell_type": "code",
   "execution_count": 25,
   "id": "2a290d8a",
   "metadata": {
    "scrolled": true
   },
   "outputs": [
    {
     "name": "stdout",
     "output_type": "stream",
     "text": [
      "<class 'pandas.core.frame.DataFrame'>\n",
      "RangeIndex: 71231 entries, 0 to 71230\n",
      "Data columns (total 3 columns):\n",
      " #   Column    Non-Null Count  Dtype  \n",
      "---  ------    --------------  -----  \n",
      " 0   id        71231 non-null  int64  \n",
      " 1   vas_id    71231 non-null  float64\n",
      " 2   buy_time  71231 non-null  int64  \n",
      "dtypes: float64(1), int64(2)\n",
      "memory usage: 1.6 MB\n"
     ]
    }
   ],
   "source": [
    "# Удаление поля \"Unnamed: 0\", так как оно не является информативным.\n",
    "df_test = df_test.drop(columns=['Unnamed: 0'])\n",
    "\n",
    "# Проверка: вывод основной информации о данных.\n",
    "df_test.info()"
   ]
  },
  {
   "cell_type": "markdown",
   "id": "55bba3ad",
   "metadata": {},
   "source": [
    "#### Изучение признака \"id\""
   ]
  },
  {
   "cell_type": "code",
   "execution_count": 26,
   "id": "74292c10",
   "metadata": {},
   "outputs": [
    {
     "data": {
      "text/plain": [
       "1079"
      ]
     },
     "execution_count": 26,
     "metadata": {},
     "output_type": "execute_result"
    }
   ],
   "source": [
    "# Вывод количества дубликатов уникального идентификатора пользователя \"id\".\n",
    "df_test['id'].duplicated().sum()"
   ]
  },
  {
   "cell_type": "markdown",
   "id": "97d8100a",
   "metadata": {},
   "source": [
    "Аналогично, среди уникальных идентификаторов обнаружены дубли."
   ]
  },
  {
   "cell_type": "markdown",
   "id": "456d338d",
   "metadata": {},
   "source": [
    "#### Изучение признака \"buy_time\""
   ]
  },
  {
   "cell_type": "code",
   "execution_count": 27,
   "id": "8feb6b43",
   "metadata": {
    "scrolled": true
   },
   "outputs": [
    {
     "data": {
      "text/plain": [
       "71228"
      ]
     },
     "execution_count": 27,
     "metadata": {},
     "output_type": "execute_result"
    }
   ],
   "source": [
    "# Вывод количества дубликатов уникального идентификатора пользователя \"id\".\n",
    "df_test['buy_time'].duplicated().sum()"
   ]
  },
  {
   "cell_type": "code",
   "execution_count": 28,
   "id": "28412413",
   "metadata": {},
   "outputs": [
    {
     "data": {
      "text/plain": [
       "152"
      ]
     },
     "execution_count": 28,
     "metadata": {},
     "output_type": "execute_result"
    }
   ],
   "source": [
    "# Вывод количества дубликатов с идентичными признаками \"id\" и \"buy_time\".\n",
    "df_test['id'].astype('str').str.cat(df_test['buy_time'].astype('str'), sep='_').duplicated().sum()"
   ]
  },
  {
   "cell_type": "code",
   "execution_count": 29,
   "id": "e7ec9b63",
   "metadata": {},
   "outputs": [
    {
     "data": {
      "text/plain": [
       "0"
      ]
     },
     "execution_count": 29,
     "metadata": {},
     "output_type": "execute_result"
    }
   ],
   "source": [
    "# Вывод количества дубликатов с идентичными признаками \"id\", \"buy_time\" и \"vas_id\".\n",
    "df_test['id'].astype('str').str.cat(\n",
    "    [df_test['buy_time'].astype('str'), df_test['vas_id'].astype('str')], sep='_').duplicated().sum()"
   ]
  },
  {
   "cell_type": "markdown",
   "id": "47717d0b",
   "metadata": {},
   "source": [
    "Аналогично, только сочетание трёх признаков \"id\", \"buy_time\", \"vas_id\" уникально идентифицировать запись."
   ]
  },
  {
   "cell_type": "markdown",
   "id": "f613f0a9",
   "metadata": {},
   "source": [
    "#### Изучение признака \"vas_id\""
   ]
  },
  {
   "cell_type": "code",
   "execution_count": 30,
   "id": "d8873071",
   "metadata": {},
   "outputs": [
    {
     "data": {
      "text/plain": [
       "2.00    44.03%\n",
       "5.00    18.35%\n",
       "6.00    18.22%\n",
       "1.00    11.81%\n",
       "4.00     4.29%\n",
       "7.00     1.67%\n",
       "8.00     0.87%\n",
       "9.00     0.76%\n",
       "Name: vas_id, dtype: object"
      ]
     },
     "execution_count": 30,
     "metadata": {},
     "output_type": "execute_result"
    }
   ],
   "source": [
    "df_test['vas_id'].value_counts(normalize=True).apply(lambda x: f'{x:.2%}')"
   ]
  },
  {
   "cell_type": "markdown",
   "id": "5c9ea8f6",
   "metadata": {},
   "source": [
    "На тестовой выборке распределение услуг отличается от аналогичного показателя на обучающей выборки."
   ]
  },
  {
   "cell_type": "markdown",
   "id": "49d0fc08",
   "metadata": {},
   "source": [
    "#### Предобработка данных"
   ]
  },
  {
   "cell_type": "code",
   "execution_count": 31,
   "id": "8bf28557",
   "metadata": {},
   "outputs": [
    {
     "name": "stdout",
     "output_type": "stream",
     "text": [
      "Initial memory usage of dataframe:\t1.63047 Mb\n",
      "Final memory usage of dataframe:\t0.815296 Mb\n",
      "Memory usage has been decreased by:\t49.996 %\n"
     ]
    }
   ],
   "source": [
    "# Сокращение объёма потребляемой памяти.\n",
    "df_test = reduce_memory_usage(df_test)"
   ]
  },
  {
   "cell_type": "markdown",
   "id": "bf95b822",
   "metadata": {},
   "source": [
    "### Признаки пользователей"
   ]
  },
  {
   "cell_type": "markdown",
   "id": "9a4211c4",
   "metadata": {},
   "source": [
    "Так как данные о признаках пользователей представляют собой большой массив данных, около 22 ГБ, их обработка затруднительна. Поэтому были сформированы две новые таблицы, содержащие только признаки пользователей из обучающей и тестовой выборок."
   ]
  },
  {
   "cell_type": "markdown",
   "id": "5ad1c403",
   "metadata": {},
   "source": [
    "#### Формирования таблиц признаков пользователей"
   ]
  },
  {
   "cell_type": "code",
   "execution_count": 32,
   "id": "90b3334d",
   "metadata": {},
   "outputs": [
    {
     "name": "stdout",
     "output_type": "stream",
     "text": [
      "Wall time: 0 ns\n"
     ]
    }
   ],
   "source": [
    "%%time\n",
    "\n",
    "# Загрузка признаков всех пользователей.\n",
    "# df_features = pd.read_csv(PATH_DATA__FEATURES, sep='\\t')"
   ]
  },
  {
   "attachments": {
    "image-2.png": {
     "image/png": "[encoded data removed]"
    }
   },
   "cell_type": "markdown",
   "id": "a8244282",
   "metadata": {},
   "source": [
    "Загрузка большого массива данных заняла больше трёх минут.\n",
    "***\n",
    "![image-2.png](attachment:image-2.png)"
   ]
  },
  {
   "cell_type": "code",
   "execution_count": 33,
   "id": "489f4cbc",
   "metadata": {
    "scrolled": true
   },
   "outputs": [],
   "source": [
    "# Вывод размерности таблицы.\n",
    "# df_features.shape"
   ]
  },
  {
   "attachments": {
    "image.png": {
     "image/png": "[encoded data removed]"
    }
   },
   "cell_type": "markdown",
   "id": "aa4e71ea",
   "metadata": {},
   "source": [
    "В таблице признаков содержится более четырёх с половиной миллионов записей.\n",
    "***\n",
    "![image.png](attachment:image.png)"
   ]
  },
  {
   "cell_type": "code",
   "execution_count": 34,
   "id": "549f644d",
   "metadata": {
    "scrolled": false
   },
   "outputs": [],
   "source": [
    "# Вывод основной информации о данных.\n",
    "# df_features.info()"
   ]
  },
  {
   "attachments": {
    "image.png": {
     "image/png": "[encoded data removed]"
    }
   },
   "cell_type": "markdown",
   "id": "48764613",
   "metadata": {},
   "source": [
    "В формате таблицы Pandas данные заняти около 8.6 ГБ оперативной памяти.\n",
    "***\n",
    "![image.png](attachment:image.png)"
   ]
  },
  {
   "cell_type": "code",
   "execution_count": 35,
   "id": "c91cddfc",
   "metadata": {
    "scrolled": true
   },
   "outputs": [
    {
     "name": "stdout",
     "output_type": "stream",
     "text": [
      "Wall time: 0 ns\n"
     ]
    }
   ],
   "source": [
    "%%time\n",
    "\n",
    "# Сокращение объёма потребляемой памяти.\n",
    "# df_features = reduce_memory_usage(df_features)"
   ]
  },
  {
   "attachments": {
    "image.png": {
     "image/png": "[encoded data removed]"
    }
   },
   "cell_type": "markdown",
   "id": "f5e96c78",
   "metadata": {},
   "source": [
    "После применения функции объём потребляемой памяти уменьшился вдвое.\n",
    "***\n",
    "![image.png](attachment:image.png)"
   ]
  },
  {
   "cell_type": "code",
   "execution_count": 36,
   "id": "5daf6667",
   "metadata": {},
   "outputs": [],
   "source": [
    "# Удаление поля \"Unnamed: 0\", так как оно не является информативным.\n",
    "# df_features = df_features.drop(columns=['Unnamed: 0'])\n",
    "\n",
    "# Проверка: вывод основной информации о данных.\n",
    "# df_features.info()"
   ]
  },
  {
   "attachments": {
    "image.png": {
     "image/png": "[encoded data removed]"
    }
   },
   "cell_type": "markdown",
   "id": "36accf28",
   "metadata": {},
   "source": [
    "Тип данных и количество столбцов изменились после обработки и удаления фиктивного признака.\n",
    "***\n",
    "![image.png](attachment:image.png)"
   ]
  },
  {
   "cell_type": "code",
   "execution_count": 37,
   "id": "94ea00ff",
   "metadata": {
    "scrolled": true
   },
   "outputs": [
    {
     "name": "stdout",
     "output_type": "stream",
     "text": [
      "Wall time: 0 ns\n"
     ]
    }
   ],
   "source": [
    "%%time\n",
    "\n",
    "# Соединение признаков для каждого пользователя обучающей выборки.\n",
    "# df_features_train = df_train.merge(df_features, on=['id'], how='inner', suffixes=('_train', None))\n",
    "\n",
    "# Проверка: вывод размерности сформированной таблицы.\n",
    "# df_features_train.shape"
   ]
  },
  {
   "attachments": {
    "image.png": {
     "image/png": "[encoded data removed]"
    }
   },
   "cell_type": "markdown",
   "id": "23013fd5",
   "metadata": {},
   "source": [
    "После внутреннего соединения таблиц по полю <code>id</code> строк стало больше, так как для некоторых <code>id</code> в таблице пользователей содержалось несколько записей с идентичными <code>id</code> в таблице признаков.\n",
    "\n",
    "В дальнейшем потребуется обработка таких записей, где получились дубли.\n",
    "***\n",
    "![image.png](attachment:image.png)"
   ]
  },
  {
   "cell_type": "code",
   "execution_count": 38,
   "id": "2bd32e11",
   "metadata": {},
   "outputs": [],
   "source": [
    "# Проверка: вывод основной информации о данных.\n",
    "# df_features_train.info()"
   ]
  },
  {
   "attachments": {
    "image.png": {
     "image/png": "[encoded data removed]"
    }
   },
   "cell_type": "markdown",
   "id": "e4b451ad",
   "metadata": {},
   "source": [
    "Объём потребляемой памяти таблицей признаков пользователей обучающей выборки составляет менее одного гигабайта, что позволяет без труда оперировать данными.\n",
    "***\n",
    "![image.png](attachment:image.png)"
   ]
  },
  {
   "cell_type": "code",
   "execution_count": 39,
   "id": "83640176",
   "metadata": {},
   "outputs": [
    {
     "name": "stdout",
     "output_type": "stream",
     "text": [
      "Wall time: 0 ns\n"
     ]
    }
   ],
   "source": [
    "%%time\n",
    "\n",
    "# Соединение признаков для каждого пользователя обучающей выборки.\n",
    "# df_features_test = df_test.merge(df_features, on=['id'], how='inner', suffixes=('_test', None))\n",
    "\n",
    "# Проверка: вывод размерности сформированной таблицы.\n",
    "# df_features_test.shape"
   ]
  },
  {
   "attachments": {
    "image.png": {
     "image/png": "[encoded data removed]"
    }
   },
   "cell_type": "markdown",
   "id": "281f8b53",
   "metadata": {},
   "source": [
    "Таблица признаков пользователей тестовой выборки также увеличилась и содержит дубли, которые требуют обработки.\n",
    "***\n",
    "![image.png](attachment:image.png)"
   ]
  },
  {
   "cell_type": "code",
   "execution_count": 40,
   "id": "4d84716e",
   "metadata": {},
   "outputs": [],
   "source": [
    "# Проверка: вывод основной информации о данных.\n",
    "# df_features_test.info()"
   ]
  },
  {
   "attachments": {
    "image.png": {
     "image/png": "[encoded data removed]"
    }
   },
   "cell_type": "markdown",
   "id": "411fb11e",
   "metadata": {},
   "source": [
    "Объём потребляемой памяти таблицы признаков пользователей тестовой выборки составил около 73 мегабайт.\n",
    "***\n",
    "![image.png](attachment:image.png)"
   ]
  },
  {
   "cell_type": "code",
   "execution_count": 41,
   "id": "442dd631",
   "metadata": {},
   "outputs": [
    {
     "name": "stdout",
     "output_type": "stream",
     "text": [
      "Wall time: 0 ns\n"
     ]
    }
   ],
   "source": [
    "%%time\n",
    "\n",
    "# Сохранение признаков пользователей в отдельные файлы.\n",
    "# df_features_train.to_csv(PATH_DATA__FEATURES_TRAIN, index=False)\n",
    "# df_features_test.to_csv(PATH_DATA__FEATURES_TEST, index=False)"
   ]
  },
  {
   "attachments": {
    "image.png": {
     "image/png": "[encoded data removed]"
    }
   },
   "cell_type": "markdown",
   "id": "e91cad84",
   "metadata": {},
   "source": [
    "Для того, чтобы в дальнейшем не тратить вычислительные ресурсы на повторное формирование таблиц признаков пользователей, сохраним их и в дальнейшем будем загружать.\n",
    "***\n",
    "![image.png](attachment:image.png)"
   ]
  },
  {
   "cell_type": "markdown",
   "id": "34cf3327",
   "metadata": {},
   "source": [
    "**Выводы:**\n",
    "\n",
    "При внутреннем соединении данных пользователей с их признаками количество записей увеличилось на обучающей и тестовой выборках.\n",
    "\n",
    "Необходимо провести проверку на наличие дубликатов."
   ]
  },
  {
   "cell_type": "markdown",
   "id": "3e4ba55e",
   "metadata": {},
   "source": [
    "#### Проверка дубликатов признаков пользователей"
   ]
  },
  {
   "cell_type": "markdown",
   "id": "3beb89a6",
   "metadata": {},
   "source": [
    "После внутреннего соединения таблиц по полю <code>id</code> строк стало больше, так как для некоторых <code>id</code> в таблице пользователей содержалось несколько записей с идентичными <code>id</code> в таблице признаков.\n",
    "\n",
    "Рассмотрим подробнее записи, которые задублировались."
   ]
  },
  {
   "cell_type": "code",
   "execution_count": 42,
   "id": "eb1fb05c",
   "metadata": {},
   "outputs": [
    {
     "name": "stdout",
     "output_type": "stream",
     "text": [
      "Wall time: 25.7 s\n"
     ]
    }
   ],
   "source": [
    "%%time\n",
    "\n",
    "# Загрузка признаков пользователей обучающей и тестовой выборок.\n",
    "df_features_train = pd.read_csv(PATH_DATA__FEATURES_TRAIN)\n",
    "df_features_test = pd.read_csv(PATH_DATA__FEATURES_TEST)"
   ]
  },
  {
   "cell_type": "code",
   "execution_count": 43,
   "id": "a7f1d7df",
   "metadata": {},
   "outputs": [
    {
     "data": {
      "text/html": [
       "<div>\n",
       "<style scoped>\n",
       "    .dataframe tbody tr th:only-of-type {\n",
       "        vertical-align: middle;\n",
       "    }\n",
       "\n",
       "    .dataframe tbody tr th {\n",
       "        vertical-align: top;\n",
       "    }\n",
       "\n",
       "    .dataframe thead th {\n",
       "        text-align: right;\n",
       "    }\n",
       "</style>\n",
       "<table border=\"1\" class=\"dataframe\">\n",
       "  <thead>\n",
       "    <tr style=\"text-align: right;\">\n",
       "      <th></th>\n",
       "      <th>id</th>\n",
       "      <th>vas_id</th>\n",
       "      <th>buy_time_train</th>\n",
       "      <th>target</th>\n",
       "      <th>buy_time</th>\n",
       "      <th>0</th>\n",
       "      <th>1</th>\n",
       "      <th>2</th>\n",
       "      <th>3</th>\n",
       "      <th>4</th>\n",
       "      <th>...</th>\n",
       "      <th>243</th>\n",
       "      <th>244</th>\n",
       "      <th>245</th>\n",
       "      <th>246</th>\n",
       "      <th>247</th>\n",
       "      <th>248</th>\n",
       "      <th>249</th>\n",
       "      <th>250</th>\n",
       "      <th>251</th>\n",
       "      <th>252</th>\n",
       "    </tr>\n",
       "  </thead>\n",
       "  <tbody>\n",
       "    <tr>\n",
       "      <th>0</th>\n",
       "      <td>540968</td>\n",
       "      <td>8.00</td>\n",
       "      <td>1537131600</td>\n",
       "      <td>0.00</td>\n",
       "      <td>1541970000</td>\n",
       "      <td>-31.56</td>\n",
       "      <td>327.36</td>\n",
       "      <td>-45.50</td>\n",
       "      <td>274.75</td>\n",
       "      <td>-50.92</td>\n",
       "      <td>...</td>\n",
       "      <td>-845.37</td>\n",
       "      <td>-613.77</td>\n",
       "      <td>-21.00</td>\n",
       "      <td>-37.63</td>\n",
       "      <td>-28.75</td>\n",
       "      <td>4.17</td>\n",
       "      <td>7.31</td>\n",
       "      <td>-12.18</td>\n",
       "      <td>21.54</td>\n",
       "      <td>0.00</td>\n",
       "    </tr>\n",
       "  </tbody>\n",
       "</table>\n",
       "<p>1 rows × 258 columns</p>\n",
       "</div>"
      ],
      "text/plain": [
       "       id  vas_id  buy_time_train  target    buy_time      0      1      2  \\\n",
       "0  540968    8.00      1537131600    0.00  1541970000 -31.56 327.36 -45.50   \n",
       "\n",
       "       3      4  ...     243     244    245    246    247  248  249    250  \\\n",
       "0 274.75 -50.92  ... -845.37 -613.77 -21.00 -37.63 -28.75 4.17 7.31 -12.18   \n",
       "\n",
       "    251  252  \n",
       "0 21.54 0.00  \n",
       "\n",
       "[1 rows x 258 columns]"
      ]
     },
     "execution_count": 43,
     "metadata": {},
     "output_type": "execute_result"
    }
   ],
   "source": [
    "# Проверка: вывод первой строки признаков пользователей обучающей выборки.\n",
    "df_features_train.head(1)"
   ]
  },
  {
   "cell_type": "code",
   "execution_count": 44,
   "id": "d8f3ee8a",
   "metadata": {},
   "outputs": [
    {
     "data": {
      "text/html": [
       "<div>\n",
       "<style scoped>\n",
       "    .dataframe tbody tr th:only-of-type {\n",
       "        vertical-align: middle;\n",
       "    }\n",
       "\n",
       "    .dataframe tbody tr th {\n",
       "        vertical-align: top;\n",
       "    }\n",
       "\n",
       "    .dataframe thead th {\n",
       "        text-align: right;\n",
       "    }\n",
       "</style>\n",
       "<table border=\"1\" class=\"dataframe\">\n",
       "  <thead>\n",
       "    <tr style=\"text-align: right;\">\n",
       "      <th></th>\n",
       "      <th>id</th>\n",
       "      <th>vas_id</th>\n",
       "      <th>buy_time_test</th>\n",
       "      <th>buy_time</th>\n",
       "      <th>0</th>\n",
       "      <th>1</th>\n",
       "      <th>2</th>\n",
       "      <th>3</th>\n",
       "      <th>4</th>\n",
       "      <th>5</th>\n",
       "      <th>...</th>\n",
       "      <th>243</th>\n",
       "      <th>244</th>\n",
       "      <th>245</th>\n",
       "      <th>246</th>\n",
       "      <th>247</th>\n",
       "      <th>248</th>\n",
       "      <th>249</th>\n",
       "      <th>250</th>\n",
       "      <th>251</th>\n",
       "      <th>252</th>\n",
       "    </tr>\n",
       "  </thead>\n",
       "  <tbody>\n",
       "    <tr>\n",
       "      <th>0</th>\n",
       "      <td>3130519</td>\n",
       "      <td>2.00</td>\n",
       "      <td>1548018000</td>\n",
       "      <td>1536526800</td>\n",
       "      <td>-62.90</td>\n",
       "      <td>-374.28</td>\n",
       "      <td>-72.60</td>\n",
       "      <td>-418.41</td>\n",
       "      <td>-78.02</td>\n",
       "      <td>-439.51</td>\n",
       "      <td>...</td>\n",
       "      <td>-970.37</td>\n",
       "      <td>-613.77</td>\n",
       "      <td>-26.00</td>\n",
       "      <td>-37.63</td>\n",
       "      <td>-258.75</td>\n",
       "      <td>-25.83</td>\n",
       "      <td>-0.69</td>\n",
       "      <td>-12.18</td>\n",
       "      <td>-0.46</td>\n",
       "      <td>0.00</td>\n",
       "    </tr>\n",
       "  </tbody>\n",
       "</table>\n",
       "<p>1 rows × 257 columns</p>\n",
       "</div>"
      ],
      "text/plain": [
       "        id  vas_id  buy_time_test    buy_time      0       1      2       3  \\\n",
       "0  3130519    2.00     1548018000  1536526800 -62.90 -374.28 -72.60 -418.41   \n",
       "\n",
       "       4       5  ...     243     244    245    246     247    248   249  \\\n",
       "0 -78.02 -439.51  ... -970.37 -613.77 -26.00 -37.63 -258.75 -25.83 -0.69   \n",
       "\n",
       "     250   251  252  \n",
       "0 -12.18 -0.46 0.00  \n",
       "\n",
       "[1 rows x 257 columns]"
      ]
     },
     "execution_count": 44,
     "metadata": {},
     "output_type": "execute_result"
    }
   ],
   "source": [
    "# Проверка: вывод первой строки признаков пользователей тестовой выборки.\n",
    "df_features_test.head(1)"
   ]
  },
  {
   "cell_type": "markdown",
   "id": "7f77066f",
   "metadata": {},
   "source": [
    "<code>buy_time</code> - время покупки из общего массива признаков.\n",
    "\n",
    "<code>buy_time_train</code> - время покупки из обучающей выборки.\n",
    "\n",
    "<code>buy_time_test</code> - время покупки из тестовой выборки.\n",
    "\n",
    "Так как признаки пользователей собирались хронологически, для устранения дубликатов необходимо использовать данные с наименьшей разницей во времени."
   ]
  },
  {
   "cell_type": "code",
   "execution_count": 45,
   "id": "ff24f6de",
   "metadata": {},
   "outputs": [
    {
     "data": {
      "text/plain": [
       "0"
      ]
     },
     "execution_count": 45,
     "metadata": {},
     "output_type": "execute_result"
    }
   ],
   "source": [
    "# Проверка: количество \"id\" пользователей, для которых отсутствуют признаки на обучающей выборке.\n",
    "(~df_train['id'].isin(df_features_train['id'])).sum()"
   ]
  },
  {
   "cell_type": "code",
   "execution_count": 46,
   "id": "1028982d",
   "metadata": {},
   "outputs": [
    {
     "data": {
      "text/plain": [
       "True"
      ]
     },
     "execution_count": 46,
     "metadata": {},
     "output_type": "execute_result"
    }
   ],
   "source": [
    "# Проверка: совпадает ли количество уникальных \"id\" пользователей среди их признаков на обучающей выборке.\n",
    "df_train['id'].nunique() == df_features_train['id'].nunique()"
   ]
  },
  {
   "cell_type": "code",
   "execution_count": 47,
   "id": "0dc74224",
   "metadata": {},
   "outputs": [
    {
     "data": {
      "text/plain": [
       "0"
      ]
     },
     "execution_count": 47,
     "metadata": {},
     "output_type": "execute_result"
    }
   ],
   "source": [
    "# Проверка: количество \"id\" пользователей, для которых отсутствуют признаки на тестовой выборке.\n",
    "(~df_test['id'].isin(df_features_test['id'])).sum()"
   ]
  },
  {
   "cell_type": "code",
   "execution_count": 48,
   "id": "0558bc85",
   "metadata": {},
   "outputs": [
    {
     "data": {
      "text/plain": [
       "True"
      ]
     },
     "execution_count": 48,
     "metadata": {},
     "output_type": "execute_result"
    }
   ],
   "source": [
    "# Проверка: совпадает ли количество уникальных \"id\" пользователей среди их признаков на тестовой выборке.\n",
    "df_test['id'].nunique() == df_features_test['id'].nunique()"
   ]
  },
  {
   "cell_type": "code",
   "execution_count": 49,
   "id": "44cca392",
   "metadata": {},
   "outputs": [
    {
     "name": "stdout",
     "output_type": "stream",
     "text": [
      "ОБУЧАЮЩАЯ ВЫБОРКА\n",
      "Количество записей в данных пользователей на обучающей выборке:\t\t831653\n",
      "Количество записей в признаках пользователей на обучающей выборке:\t860052\n",
      "Разница составляет:\t\t\t\t\t\t\t28399\n",
      "\n",
      "ТЕСТОВАЯ ВЫБОРКА\n",
      "Количество записей в данных пользователей на тестовой выборке:\t\t71231\n",
      "Количество записей в признаках пользователей на тестовой выборке:\t73666\n",
      "Разница составляет:\t\t\t\t\t\t\t2435\n",
      "\n"
     ]
    }
   ],
   "source": [
    "print(\n",
    "    f'ОБУЧАЮЩАЯ ВЫБОРКА\\n' \\\n",
    "    f'Количество записей в данных пользователей на обучающей выборке:\\t\\t{df_train.shape[0]}\\n' \\\n",
    "    f'Количество записей в признаках пользователей на обучающей выборке:\\t{df_features_train.shape[0]}\\n' \\\n",
    "    f'Разница составляет:\\t\\t\\t\\t\\t\\t\\t{np.abs(df_train.shape[0] - df_features_train.shape[0])}\\n' \\\n",
    "    f'\\n' \\\n",
    "    f'ТЕСТОВАЯ ВЫБОРКА\\n' \\\n",
    "    f'Количество записей в данных пользователей на тестовой выборке:\\t\\t{df_test.shape[0]}\\n' \\\n",
    "    f'Количество записей в признаках пользователей на тестовой выборке:\\t{df_features_test.shape[0]}\\n' \\\n",
    "    f'Разница составляет:\\t\\t\\t\\t\\t\\t\\t{np.abs(df_test.shape[0] - df_features_test.shape[0])}\\n' \\\n",
    ")"
   ]
  },
  {
   "cell_type": "markdown",
   "id": "2158abca",
   "metadata": {},
   "source": [
    "**Выводы:**\n",
    "\n",
    "Наличие дубликатов подтвердилось.\n",
    "\n",
    "Необходимо изучить дубликаты для разработки стратегии их устранения."
   ]
  },
  {
   "cell_type": "markdown",
   "id": "208bdfbd",
   "metadata": {},
   "source": [
    "#### Изучение дубликатов"
   ]
  },
  {
   "cell_type": "code",
   "execution_count": 50,
   "id": "8f55cc52",
   "metadata": {
    "scrolled": true
   },
   "outputs": [
    {
     "data": {
      "text/html": [
       "<div>\n",
       "<style scoped>\n",
       "    .dataframe tbody tr th:only-of-type {\n",
       "        vertical-align: middle;\n",
       "    }\n",
       "\n",
       "    .dataframe tbody tr th {\n",
       "        vertical-align: top;\n",
       "    }\n",
       "\n",
       "    .dataframe thead th {\n",
       "        text-align: right;\n",
       "    }\n",
       "</style>\n",
       "<table border=\"1\" class=\"dataframe\">\n",
       "  <thead>\n",
       "    <tr style=\"text-align: right;\">\n",
       "      <th></th>\n",
       "      <th>unique_id</th>\n",
       "      <th>id</th>\n",
       "      <th>vas_id</th>\n",
       "      <th>buy_time_train</th>\n",
       "      <th>target</th>\n",
       "      <th>buy_time</th>\n",
       "      <th>0</th>\n",
       "      <th>1</th>\n",
       "      <th>2</th>\n",
       "      <th>3</th>\n",
       "      <th>...</th>\n",
       "      <th>243</th>\n",
       "      <th>244</th>\n",
       "      <th>245</th>\n",
       "      <th>246</th>\n",
       "      <th>247</th>\n",
       "      <th>248</th>\n",
       "      <th>249</th>\n",
       "      <th>250</th>\n",
       "      <th>251</th>\n",
       "      <th>252</th>\n",
       "    </tr>\n",
       "  </thead>\n",
       "  <tbody>\n",
       "    <tr>\n",
       "      <th>0</th>\n",
       "      <td>540968_8_1537131600</td>\n",
       "      <td>540968</td>\n",
       "      <td>8.00</td>\n",
       "      <td>1537131600</td>\n",
       "      <td>0.00</td>\n",
       "      <td>1541970000</td>\n",
       "      <td>-31.56</td>\n",
       "      <td>327.36</td>\n",
       "      <td>-45.50</td>\n",
       "      <td>274.75</td>\n",
       "      <td>...</td>\n",
       "      <td>-845.37</td>\n",
       "      <td>-613.77</td>\n",
       "      <td>-21.00</td>\n",
       "      <td>-37.63</td>\n",
       "      <td>-28.75</td>\n",
       "      <td>4.17</td>\n",
       "      <td>7.31</td>\n",
       "      <td>-12.18</td>\n",
       "      <td>21.54</td>\n",
       "      <td>0.00</td>\n",
       "    </tr>\n",
       "    <tr>\n",
       "      <th>1</th>\n",
       "      <td>1454121_4_1531688400</td>\n",
       "      <td>1454121</td>\n",
       "      <td>4.00</td>\n",
       "      <td>1531688400</td>\n",
       "      <td>0.00</td>\n",
       "      <td>1531083600</td>\n",
       "      <td>547.27</td>\n",
       "      <td>238.43</td>\n",
       "      <td>533.33</td>\n",
       "      <td>274.80</td>\n",
       "      <td>...</td>\n",
       "      <td>-972.37</td>\n",
       "      <td>-613.77</td>\n",
       "      <td>-26.00</td>\n",
       "      <td>-19.63</td>\n",
       "      <td>-278.75</td>\n",
       "      <td>-24.83</td>\n",
       "      <td>-0.69</td>\n",
       "      <td>-11.18</td>\n",
       "      <td>-0.46</td>\n",
       "      <td>0.00</td>\n",
       "    </tr>\n",
       "    <tr>\n",
       "      <th>2</th>\n",
       "      <td>2458816_1_1534107600</td>\n",
       "      <td>2458816</td>\n",
       "      <td>1.00</td>\n",
       "      <td>1534107600</td>\n",
       "      <td>0.00</td>\n",
       "      <td>1543179600</td>\n",
       "      <td>-92.14</td>\n",
       "      <td>-95.47</td>\n",
       "      <td>-106.08</td>\n",
       "      <td>-139.60</td>\n",
       "      <td>...</td>\n",
       "      <td>-977.37</td>\n",
       "      <td>-613.77</td>\n",
       "      <td>-26.00</td>\n",
       "      <td>-37.63</td>\n",
       "      <td>-304.75</td>\n",
       "      <td>-25.83</td>\n",
       "      <td>-0.69</td>\n",
       "      <td>-12.18</td>\n",
       "      <td>-0.46</td>\n",
       "      <td>0.00</td>\n",
       "    </tr>\n",
       "    <tr>\n",
       "      <th>3</th>\n",
       "      <td>3535012_5_1535922000</td>\n",
       "      <td>3535012</td>\n",
       "      <td>5.00</td>\n",
       "      <td>1535922000</td>\n",
       "      <td>0.00</td>\n",
       "      <td>1533502800</td>\n",
       "      <td>54.88</td>\n",
       "      <td>12.97</td>\n",
       "      <td>54.08</td>\n",
       "      <td>-9.12</td>\n",
       "      <td>...</td>\n",
       "      <td>-977.37</td>\n",
       "      <td>-613.77</td>\n",
       "      <td>-26.00</td>\n",
       "      <td>-18.63</td>\n",
       "      <td>-133.75</td>\n",
       "      <td>-14.83</td>\n",
       "      <td>-0.69</td>\n",
       "      <td>-1.18</td>\n",
       "      <td>-0.46</td>\n",
       "      <td>0.00</td>\n",
       "    </tr>\n",
       "    <tr>\n",
       "      <th>4</th>\n",
       "      <td>1693214_1_1535922000</td>\n",
       "      <td>1693214</td>\n",
       "      <td>1.00</td>\n",
       "      <td>1535922000</td>\n",
       "      <td>0.00</td>\n",
       "      <td>1543179600</td>\n",
       "      <td>45.16</td>\n",
       "      <td>295.24</td>\n",
       "      <td>64.68</td>\n",
       "      <td>344.28</td>\n",
       "      <td>...</td>\n",
       "      <td>-965.37</td>\n",
       "      <td>-612.77</td>\n",
       "      <td>-23.00</td>\n",
       "      <td>-32.63</td>\n",
       "      <td>-127.75</td>\n",
       "      <td>-4.83</td>\n",
       "      <td>-0.69</td>\n",
       "      <td>-12.18</td>\n",
       "      <td>-0.46</td>\n",
       "      <td>0.00</td>\n",
       "    </tr>\n",
       "  </tbody>\n",
       "</table>\n",
       "<p>5 rows × 259 columns</p>\n",
       "</div>"
      ],
      "text/plain": [
       "              unique_id       id  vas_id  buy_time_train  target    buy_time  \\\n",
       "0   540968_8_1537131600   540968    8.00      1537131600    0.00  1541970000   \n",
       "1  1454121_4_1531688400  1454121    4.00      1531688400    0.00  1531083600   \n",
       "2  2458816_1_1534107600  2458816    1.00      1534107600    0.00  1543179600   \n",
       "3  3535012_5_1535922000  3535012    5.00      1535922000    0.00  1533502800   \n",
       "4  1693214_1_1535922000  1693214    1.00      1535922000    0.00  1543179600   \n",
       "\n",
       "       0      1       2       3  ...     243     244    245    246     247  \\\n",
       "0 -31.56 327.36  -45.50  274.75  ... -845.37 -613.77 -21.00 -37.63  -28.75   \n",
       "1 547.27 238.43  533.33  274.80  ... -972.37 -613.77 -26.00 -19.63 -278.75   \n",
       "2 -92.14 -95.47 -106.08 -139.60  ... -977.37 -613.77 -26.00 -37.63 -304.75   \n",
       "3  54.88  12.97   54.08   -9.12  ... -977.37 -613.77 -26.00 -18.63 -133.75   \n",
       "4  45.16 295.24   64.68  344.28  ... -965.37 -612.77 -23.00 -32.63 -127.75   \n",
       "\n",
       "     248   249    250   251  252  \n",
       "0   4.17  7.31 -12.18 21.54 0.00  \n",
       "1 -24.83 -0.69 -11.18 -0.46 0.00  \n",
       "2 -25.83 -0.69 -12.18 -0.46 0.00  \n",
       "3 -14.83 -0.69  -1.18 -0.46 0.00  \n",
       "4  -4.83 -0.69 -12.18 -0.46 0.00  \n",
       "\n",
       "[5 rows x 259 columns]"
      ]
     },
     "execution_count": 50,
     "metadata": {},
     "output_type": "execute_result"
    }
   ],
   "source": [
    "# Составление уникального ключа \"unique_id\" из признаков \"id\", \"buy_time_train\", \"vas_id\".\n",
    "list_features_train = df_features_train.columns\n",
    "\n",
    "df_features_train['unique_id'] = df_features_train['id'].astype('str').str.cat(\n",
    "    [df_features_train['vas_id'].astype('int').astype('str'), df_features_train['buy_time_train'].astype('str')], sep='_')\n",
    "\n",
    "df_features_train = df_features_train[['unique_id'] + [*list_features_train]]\n",
    "\n",
    "df_features_train.head()"
   ]
  },
  {
   "cell_type": "code",
   "execution_count": 51,
   "id": "283d742e",
   "metadata": {},
   "outputs": [
    {
     "data": {
      "text/plain": [
       "28399"
      ]
     },
     "execution_count": 51,
     "metadata": {},
     "output_type": "execute_result"
    }
   ],
   "source": [
    "# Вывод количества дубликатов, которые получились из-за нескольких записей в признаках клиента.\n",
    "df_features_train['unique_id'].duplicated().sum()"
   ]
  },
  {
   "cell_type": "code",
   "execution_count": 52,
   "id": "40ac4b75",
   "metadata": {},
   "outputs": [
    {
     "data": {
      "text/html": [
       "<div>\n",
       "<style scoped>\n",
       "    .dataframe tbody tr th:only-of-type {\n",
       "        vertical-align: middle;\n",
       "    }\n",
       "\n",
       "    .dataframe tbody tr th {\n",
       "        vertical-align: top;\n",
       "    }\n",
       "\n",
       "    .dataframe thead th {\n",
       "        text-align: right;\n",
       "    }\n",
       "</style>\n",
       "<table border=\"1\" class=\"dataframe\">\n",
       "  <thead>\n",
       "    <tr style=\"text-align: right;\">\n",
       "      <th></th>\n",
       "      <th>unique_id</th>\n",
       "      <th>id</th>\n",
       "      <th>vas_id</th>\n",
       "      <th>buy_time_train</th>\n",
       "      <th>target</th>\n",
       "      <th>buy_time</th>\n",
       "      <th>0</th>\n",
       "      <th>1</th>\n",
       "      <th>2</th>\n",
       "      <th>3</th>\n",
       "      <th>...</th>\n",
       "      <th>243</th>\n",
       "      <th>244</th>\n",
       "      <th>245</th>\n",
       "      <th>246</th>\n",
       "      <th>247</th>\n",
       "      <th>248</th>\n",
       "      <th>249</th>\n",
       "      <th>250</th>\n",
       "      <th>251</th>\n",
       "      <th>252</th>\n",
       "    </tr>\n",
       "  </thead>\n",
       "  <tbody>\n",
       "    <tr>\n",
       "      <th>8</th>\n",
       "      <td>2000856_1_1534712400</td>\n",
       "      <td>2000856</td>\n",
       "      <td>1.00</td>\n",
       "      <td>1534712400</td>\n",
       "      <td>0.00</td>\n",
       "      <td>1531688400</td>\n",
       "      <td>-21.37</td>\n",
       "      <td>108.78</td>\n",
       "      <td>178.62</td>\n",
       "      <td>770.86</td>\n",
       "      <td>...</td>\n",
       "      <td>-977.37</td>\n",
       "      <td>-613.77</td>\n",
       "      <td>-26.00</td>\n",
       "      <td>-37.63</td>\n",
       "      <td>-306.75</td>\n",
       "      <td>-25.83</td>\n",
       "      <td>-0.69</td>\n",
       "      <td>-12.18</td>\n",
       "      <td>-0.46</td>\n",
       "      <td>0.00</td>\n",
       "    </tr>\n",
       "    <tr>\n",
       "      <th>9</th>\n",
       "      <td>2000856_1_1534712400</td>\n",
       "      <td>2000856</td>\n",
       "      <td>1.00</td>\n",
       "      <td>1534712400</td>\n",
       "      <td>0.00</td>\n",
       "      <td>1531083600</td>\n",
       "      <td>-92.56</td>\n",
       "      <td>48.60</td>\n",
       "      <td>50.24</td>\n",
       "      <td>609.86</td>\n",
       "      <td>...</td>\n",
       "      <td>-977.37</td>\n",
       "      <td>-613.77</td>\n",
       "      <td>-26.00</td>\n",
       "      <td>-37.63</td>\n",
       "      <td>-306.75</td>\n",
       "      <td>-25.83</td>\n",
       "      <td>-0.69</td>\n",
       "      <td>-12.18</td>\n",
       "      <td>-0.46</td>\n",
       "      <td>0.00</td>\n",
       "    </tr>\n",
       "    <tr>\n",
       "      <th>58</th>\n",
       "      <td>3577738_1_1532293200</td>\n",
       "      <td>3577738</td>\n",
       "      <td>1.00</td>\n",
       "      <td>1532293200</td>\n",
       "      <td>0.00</td>\n",
       "      <td>1540760400</td>\n",
       "      <td>-96.80</td>\n",
       "      <td>45.21</td>\n",
       "      <td>-104.81</td>\n",
       "      <td>315.48</td>\n",
       "      <td>...</td>\n",
       "      <td>-929.37</td>\n",
       "      <td>-565.77</td>\n",
       "      <td>-26.00</td>\n",
       "      <td>-28.63</td>\n",
       "      <td>-177.75</td>\n",
       "      <td>-25.83</td>\n",
       "      <td>-0.69</td>\n",
       "      <td>-12.18</td>\n",
       "      <td>-0.46</td>\n",
       "      <td>0.00</td>\n",
       "    </tr>\n",
       "    <tr>\n",
       "      <th>59</th>\n",
       "      <td>3577738_1_1532293200</td>\n",
       "      <td>3577738</td>\n",
       "      <td>1.00</td>\n",
       "      <td>1532293200</td>\n",
       "      <td>0.00</td>\n",
       "      <td>1537736400</td>\n",
       "      <td>-96.80</td>\n",
       "      <td>104.53</td>\n",
       "      <td>-8.22</td>\n",
       "      <td>672.22</td>\n",
       "      <td>...</td>\n",
       "      <td>-969.37</td>\n",
       "      <td>-605.77</td>\n",
       "      <td>-26.00</td>\n",
       "      <td>-35.63</td>\n",
       "      <td>-159.75</td>\n",
       "      <td>-25.83</td>\n",
       "      <td>-0.69</td>\n",
       "      <td>-12.18</td>\n",
       "      <td>-0.46</td>\n",
       "      <td>0.00</td>\n",
       "    </tr>\n",
       "    <tr>\n",
       "      <th>63</th>\n",
       "      <td>203194_1_1532293200</td>\n",
       "      <td>203194</td>\n",
       "      <td>1.00</td>\n",
       "      <td>1532293200</td>\n",
       "      <td>0.00</td>\n",
       "      <td>1542574800</td>\n",
       "      <td>-96.80</td>\n",
       "      <td>-111.57</td>\n",
       "      <td>-110.74</td>\n",
       "      <td>-164.18</td>\n",
       "      <td>...</td>\n",
       "      <td>-977.37</td>\n",
       "      <td>-613.77</td>\n",
       "      <td>-26.00</td>\n",
       "      <td>-37.63</td>\n",
       "      <td>-258.75</td>\n",
       "      <td>-24.83</td>\n",
       "      <td>-0.69</td>\n",
       "      <td>-12.18</td>\n",
       "      <td>-0.46</td>\n",
       "      <td>0.00</td>\n",
       "    </tr>\n",
       "    <tr>\n",
       "      <th>64</th>\n",
       "      <td>203194_1_1532293200</td>\n",
       "      <td>203194</td>\n",
       "      <td>1.00</td>\n",
       "      <td>1532293200</td>\n",
       "      <td>0.00</td>\n",
       "      <td>1540760400</td>\n",
       "      <td>-96.80</td>\n",
       "      <td>-170.89</td>\n",
       "      <td>-110.74</td>\n",
       "      <td>-223.50</td>\n",
       "      <td>...</td>\n",
       "      <td>-977.37</td>\n",
       "      <td>-613.77</td>\n",
       "      <td>-26.00</td>\n",
       "      <td>-37.63</td>\n",
       "      <td>-297.75</td>\n",
       "      <td>-25.83</td>\n",
       "      <td>-0.69</td>\n",
       "      <td>-12.18</td>\n",
       "      <td>-0.46</td>\n",
       "      <td>0.00</td>\n",
       "    </tr>\n",
       "  </tbody>\n",
       "</table>\n",
       "<p>6 rows × 259 columns</p>\n",
       "</div>"
      ],
      "text/plain": [
       "               unique_id       id  vas_id  buy_time_train  target    buy_time  \\\n",
       "8   2000856_1_1534712400  2000856    1.00      1534712400    0.00  1531688400   \n",
       "9   2000856_1_1534712400  2000856    1.00      1534712400    0.00  1531083600   \n",
       "58  3577738_1_1532293200  3577738    1.00      1532293200    0.00  1540760400   \n",
       "59  3577738_1_1532293200  3577738    1.00      1532293200    0.00  1537736400   \n",
       "63   203194_1_1532293200   203194    1.00      1532293200    0.00  1542574800   \n",
       "64   203194_1_1532293200   203194    1.00      1532293200    0.00  1540760400   \n",
       "\n",
       "        0       1       2       3  ...     243     244    245    246     247  \\\n",
       "8  -21.37  108.78  178.62  770.86  ... -977.37 -613.77 -26.00 -37.63 -306.75   \n",
       "9  -92.56   48.60   50.24  609.86  ... -977.37 -613.77 -26.00 -37.63 -306.75   \n",
       "58 -96.80   45.21 -104.81  315.48  ... -929.37 -565.77 -26.00 -28.63 -177.75   \n",
       "59 -96.80  104.53   -8.22  672.22  ... -969.37 -605.77 -26.00 -35.63 -159.75   \n",
       "63 -96.80 -111.57 -110.74 -164.18  ... -977.37 -613.77 -26.00 -37.63 -258.75   \n",
       "64 -96.80 -170.89 -110.74 -223.50  ... -977.37 -613.77 -26.00 -37.63 -297.75   \n",
       "\n",
       "      248   249    250   251  252  \n",
       "8  -25.83 -0.69 -12.18 -0.46 0.00  \n",
       "9  -25.83 -0.69 -12.18 -0.46 0.00  \n",
       "58 -25.83 -0.69 -12.18 -0.46 0.00  \n",
       "59 -25.83 -0.69 -12.18 -0.46 0.00  \n",
       "63 -24.83 -0.69 -12.18 -0.46 0.00  \n",
       "64 -25.83 -0.69 -12.18 -0.46 0.00  \n",
       "\n",
       "[6 rows x 259 columns]"
      ]
     },
     "metadata": {},
     "output_type": "display_data"
    }
   ],
   "source": [
    "# Список уникальных ключей, пользователи которых имеют разные наборы признаков.\n",
    "unique_id_duplicated = df_features_train.loc[df_features_train['unique_id'].duplicated(), 'unique_id']\n",
    "\n",
    "# Вывод первых шести записей, у которых возникли дубликаты из-за разных признаков.\n",
    "display(df_features_train[df_features_train['unique_id'].isin(unique_id_duplicated)].head(6))\n",
    "\n",
    "# Удаление уникального ключа.\n",
    "df_features_train = df_features_train.drop(columns=['unique_id'])"
   ]
  },
  {
   "cell_type": "markdown",
   "id": "9f2e106b",
   "metadata": {},
   "source": [
    "На первых шести записях-дубликатах можно наблюдать, что в таблице признаков для данных пользователей оказались сразу несколько записей признаков. При этом время покупки в таблице пользователей <code>buy_time_train</code> отличается от времени покупки в таблице признаков <code>buy_time</code>, поэтому нельзя выполнить соединение таблиц также по времени покупки."
   ]
  },
  {
   "cell_type": "markdown",
   "id": "5b9ff3b3",
   "metadata": {},
   "source": [
    "#### Устранение дубликатов"
   ]
  },
  {
   "cell_type": "markdown",
   "id": "3220e3c2",
   "metadata": {},
   "source": [
    "Для устранения дубликатов для каждого пользователя будем использовать только наиболее актуальные признаки перед временем покупки. То есть, необходимо оставить наиболее близкие записи признаков до времени покупки. Таким образом получится установить признаки пользователя, которые были актуальны на момент времени покупки."
   ]
  },
  {
   "cell_type": "code",
   "execution_count": 53,
   "id": "335b7124",
   "metadata": {},
   "outputs": [],
   "source": [
    "# Функция для устранения дубликатов.\n",
    "def deduplication(df, features_unique):\n",
    "    \n",
    "    # Список признаков.\n",
    "    list_features = df.columns\n",
    "\n",
    "    # Составление уникального ключа \"unique_id\" из признаков \"id\", \"vas_id\" и \"buy_time_train\"/\"buy_time_test\".\n",
    "    df['unique_id'] = df[features_unique[0]].astype('str').str.cat(\n",
    "        [df[features_unique[1]].astype('int').astype('str'), df[features_unique[2]].astype('str')], sep='_')\n",
    "\n",
    "    # Вычисление абсолютной разницы во времени между датой сбора признаков и датой покупки.\n",
    "    df['diff_abs'] = np.abs(df[features_unique[2]] - df['buy_time'])\n",
    "    \n",
    "    # Выбор минимальной абсолютной разницы для каждой уникальной записи.\n",
    "    df['diff_min'] = df.groupby(by='unique_id')['diff_abs'].transform('min')\n",
    "\n",
    "    # Использование только записей с минимальной разницей.\n",
    "    df = df[df['diff_abs'] == df['diff_min']].copy()\n",
    "\n",
    "    # Список уникальных ключей, пользователи которых имеют разные наборы признаков.\n",
    "    unique_id_duplicated = df.loc[df['unique_id'].duplicated(), 'unique_id']\n",
    "\n",
    "    # Повторное вычисление разницы во времени.\n",
    "    df['diff'] = df[features_unique[2]] - df['buy_time']\n",
    "\n",
    "    # Исключение дубликатов и записей из будущего на момент покупки.\n",
    "    df = df[~(df['unique_id'].isin(unique_id_duplicated) & (df['diff'] > 0))]\n",
    "\n",
    "    # Исключение ранее созданных полей.\n",
    "    df = df[list_features]\n",
    "    \n",
    "    return df"
   ]
  },
  {
   "cell_type": "code",
   "execution_count": 54,
   "id": "5a9aa966",
   "metadata": {},
   "outputs": [
    {
     "data": {
      "text/plain": [
       "(831653, 258)"
      ]
     },
     "execution_count": 54,
     "metadata": {},
     "output_type": "execute_result"
    }
   ],
   "source": [
    "# Устранение дубликатов обучающей выборки.\n",
    "df_features_train = deduplication(df_features_train, ['id', 'vas_id', 'buy_time_train'])\n",
    "\n",
    "# Проверка: вывод размерности.\n",
    "df_features_train.shape"
   ]
  },
  {
   "cell_type": "code",
   "execution_count": 55,
   "id": "7bf2e39e",
   "metadata": {},
   "outputs": [
    {
     "data": {
      "text/plain": [
       "(71231, 257)"
      ]
     },
     "execution_count": 55,
     "metadata": {},
     "output_type": "execute_result"
    }
   ],
   "source": [
    "# Устранение дубликатов тестовой выборки.\n",
    "df_features_test = deduplication(df_features_test, ['id', 'vas_id', 'buy_time_test'])\n",
    "\n",
    "# Проверка: вывод размерности.\n",
    "df_features_test.shape"
   ]
  },
  {
   "cell_type": "code",
   "execution_count": 56,
   "id": "599d6a38",
   "metadata": {
    "scrolled": true
   },
   "outputs": [
    {
     "name": "stdout",
     "output_type": "stream",
     "text": [
      "ОБУЧАЮЩАЯ ВЫБОРКА\n",
      "Количество записей в данных пользователей на обучающей выборке:\t\t831653\n",
      "Количество записей в признаках пользователей на обучающей выборке:\t831653\n",
      "Разница составляет:\t\t\t\t\t\t\t0\n",
      "\n",
      "ТЕСТОВАЯ ВЫБОРКА\n",
      "Количество записей в данных пользователей на тестовой выборке:\t\t71231\n",
      "Количество записей в признаках пользователей на тестовой выборке:\t71231\n",
      "Разница составляет:\t\t\t\t\t\t\t0\n",
      "\n"
     ]
    }
   ],
   "source": [
    "print(\n",
    "    f'ОБУЧАЮЩАЯ ВЫБОРКА\\n' \\\n",
    "    f'Количество записей в данных пользователей на обучающей выборке:\\t\\t{df_train.shape[0]}\\n' \\\n",
    "    f'Количество записей в признаках пользователей на обучающей выборке:\\t{df_features_train.shape[0]}\\n' \\\n",
    "    f'Разница составляет:\\t\\t\\t\\t\\t\\t\\t{np.abs(df_train.shape[0] - df_features_train.shape[0])}\\n' \\\n",
    "    f'\\n' \\\n",
    "    f'ТЕСТОВАЯ ВЫБОРКА\\n' \\\n",
    "    f'Количество записей в данных пользователей на тестовой выборке:\\t\\t{df_test.shape[0]}\\n' \\\n",
    "    f'Количество записей в признаках пользователей на тестовой выборке:\\t{df_features_test.shape[0]}\\n' \\\n",
    "    f'Разница составляет:\\t\\t\\t\\t\\t\\t\\t{np.abs(df_test.shape[0] - df_features_test.shape[0])}\\n' \\\n",
    ")"
   ]
  },
  {
   "cell_type": "code",
   "execution_count": 57,
   "id": "11ecb45d",
   "metadata": {},
   "outputs": [
    {
     "data": {
      "text/plain": [
       "id          0\n",
       "vas_id      0\n",
       "buy_time    0\n",
       "target      0\n",
       "dtype: int64"
      ]
     },
     "execution_count": 57,
     "metadata": {},
     "output_type": "execute_result"
    }
   ],
   "source": [
    "# Проверка: вывод количества записей признаков, которые не совпадают с данными пользователей.\n",
    "df_features_train = df_features_train.rename(columns={'buy_time': 'buy_time_feature', 'buy_time_train': 'buy_time'})\n",
    "df_features_train.index = df_train.index\n",
    "(df_features_train[['id', 'vas_id', 'buy_time', 'target']] != df_train[['id', 'vas_id', 'buy_time', 'target']]).sum()"
   ]
  },
  {
   "cell_type": "code",
   "execution_count": 58,
   "id": "9d7f488b",
   "metadata": {},
   "outputs": [
    {
     "data": {
      "text/html": [
       "<div>\n",
       "<style scoped>\n",
       "    .dataframe tbody tr th:only-of-type {\n",
       "        vertical-align: middle;\n",
       "    }\n",
       "\n",
       "    .dataframe tbody tr th {\n",
       "        vertical-align: top;\n",
       "    }\n",
       "\n",
       "    .dataframe thead th {\n",
       "        text-align: right;\n",
       "    }\n",
       "</style>\n",
       "<table border=\"1\" class=\"dataframe\">\n",
       "  <thead>\n",
       "    <tr style=\"text-align: right;\">\n",
       "      <th></th>\n",
       "      <th>id</th>\n",
       "      <th>vas_id</th>\n",
       "      <th>buy_time</th>\n",
       "      <th>target</th>\n",
       "      <th>buy_time_feature</th>\n",
       "      <th>0</th>\n",
       "      <th>1</th>\n",
       "      <th>2</th>\n",
       "      <th>3</th>\n",
       "      <th>4</th>\n",
       "      <th>...</th>\n",
       "      <th>243</th>\n",
       "      <th>244</th>\n",
       "      <th>245</th>\n",
       "      <th>246</th>\n",
       "      <th>247</th>\n",
       "      <th>248</th>\n",
       "      <th>249</th>\n",
       "      <th>250</th>\n",
       "      <th>251</th>\n",
       "      <th>252</th>\n",
       "    </tr>\n",
       "  </thead>\n",
       "  <tbody>\n",
       "    <tr>\n",
       "      <th>0</th>\n",
       "      <td>540968</td>\n",
       "      <td>8.00</td>\n",
       "      <td>1537131600</td>\n",
       "      <td>0.00</td>\n",
       "      <td>1541970000</td>\n",
       "      <td>-31.56</td>\n",
       "      <td>327.36</td>\n",
       "      <td>-45.50</td>\n",
       "      <td>274.75</td>\n",
       "      <td>-50.92</td>\n",
       "      <td>...</td>\n",
       "      <td>-845.37</td>\n",
       "      <td>-613.77</td>\n",
       "      <td>-21.00</td>\n",
       "      <td>-37.63</td>\n",
       "      <td>-28.75</td>\n",
       "      <td>4.17</td>\n",
       "      <td>7.31</td>\n",
       "      <td>-12.18</td>\n",
       "      <td>21.54</td>\n",
       "      <td>0.00</td>\n",
       "    </tr>\n",
       "    <tr>\n",
       "      <th>1</th>\n",
       "      <td>1454121</td>\n",
       "      <td>4.00</td>\n",
       "      <td>1531688400</td>\n",
       "      <td>0.00</td>\n",
       "      <td>1531083600</td>\n",
       "      <td>547.27</td>\n",
       "      <td>238.43</td>\n",
       "      <td>533.33</td>\n",
       "      <td>274.80</td>\n",
       "      <td>527.91</td>\n",
       "      <td>...</td>\n",
       "      <td>-972.37</td>\n",
       "      <td>-613.77</td>\n",
       "      <td>-26.00</td>\n",
       "      <td>-19.63</td>\n",
       "      <td>-278.75</td>\n",
       "      <td>-24.83</td>\n",
       "      <td>-0.69</td>\n",
       "      <td>-11.18</td>\n",
       "      <td>-0.46</td>\n",
       "      <td>0.00</td>\n",
       "    </tr>\n",
       "    <tr>\n",
       "      <th>2</th>\n",
       "      <td>2458816</td>\n",
       "      <td>1.00</td>\n",
       "      <td>1534107600</td>\n",
       "      <td>0.00</td>\n",
       "      <td>1543179600</td>\n",
       "      <td>-92.14</td>\n",
       "      <td>-95.47</td>\n",
       "      <td>-106.08</td>\n",
       "      <td>-139.60</td>\n",
       "      <td>-111.50</td>\n",
       "      <td>...</td>\n",
       "      <td>-977.37</td>\n",
       "      <td>-613.77</td>\n",
       "      <td>-26.00</td>\n",
       "      <td>-37.63</td>\n",
       "      <td>-304.75</td>\n",
       "      <td>-25.83</td>\n",
       "      <td>-0.69</td>\n",
       "      <td>-12.18</td>\n",
       "      <td>-0.46</td>\n",
       "      <td>0.00</td>\n",
       "    </tr>\n",
       "    <tr>\n",
       "      <th>3</th>\n",
       "      <td>3535012</td>\n",
       "      <td>5.00</td>\n",
       "      <td>1535922000</td>\n",
       "      <td>0.00</td>\n",
       "      <td>1533502800</td>\n",
       "      <td>54.88</td>\n",
       "      <td>12.97</td>\n",
       "      <td>54.08</td>\n",
       "      <td>-9.12</td>\n",
       "      <td>48.66</td>\n",
       "      <td>...</td>\n",
       "      <td>-977.37</td>\n",
       "      <td>-613.77</td>\n",
       "      <td>-26.00</td>\n",
       "      <td>-18.63</td>\n",
       "      <td>-133.75</td>\n",
       "      <td>-14.83</td>\n",
       "      <td>-0.69</td>\n",
       "      <td>-1.18</td>\n",
       "      <td>-0.46</td>\n",
       "      <td>0.00</td>\n",
       "    </tr>\n",
       "    <tr>\n",
       "      <th>4</th>\n",
       "      <td>1693214</td>\n",
       "      <td>1.00</td>\n",
       "      <td>1535922000</td>\n",
       "      <td>0.00</td>\n",
       "      <td>1543179600</td>\n",
       "      <td>45.16</td>\n",
       "      <td>295.24</td>\n",
       "      <td>64.68</td>\n",
       "      <td>344.28</td>\n",
       "      <td>59.26</td>\n",
       "      <td>...</td>\n",
       "      <td>-965.37</td>\n",
       "      <td>-612.77</td>\n",
       "      <td>-23.00</td>\n",
       "      <td>-32.63</td>\n",
       "      <td>-127.75</td>\n",
       "      <td>-4.83</td>\n",
       "      <td>-0.69</td>\n",
       "      <td>-12.18</td>\n",
       "      <td>-0.46</td>\n",
       "      <td>0.00</td>\n",
       "    </tr>\n",
       "  </tbody>\n",
       "</table>\n",
       "<p>5 rows × 258 columns</p>\n",
       "</div>"
      ],
      "text/plain": [
       "        id  vas_id    buy_time  target  buy_time_feature      0      1  \\\n",
       "0   540968    8.00  1537131600    0.00        1541970000 -31.56 327.36   \n",
       "1  1454121    4.00  1531688400    0.00        1531083600 547.27 238.43   \n",
       "2  2458816    1.00  1534107600    0.00        1543179600 -92.14 -95.47   \n",
       "3  3535012    5.00  1535922000    0.00        1533502800  54.88  12.97   \n",
       "4  1693214    1.00  1535922000    0.00        1543179600  45.16 295.24   \n",
       "\n",
       "        2       3       4  ...     243     244    245    246     247    248  \\\n",
       "0  -45.50  274.75  -50.92  ... -845.37 -613.77 -21.00 -37.63  -28.75   4.17   \n",
       "1  533.33  274.80  527.91  ... -972.37 -613.77 -26.00 -19.63 -278.75 -24.83   \n",
       "2 -106.08 -139.60 -111.50  ... -977.37 -613.77 -26.00 -37.63 -304.75 -25.83   \n",
       "3   54.08   -9.12   48.66  ... -977.37 -613.77 -26.00 -18.63 -133.75 -14.83   \n",
       "4   64.68  344.28   59.26  ... -965.37 -612.77 -23.00 -32.63 -127.75  -4.83   \n",
       "\n",
       "    249    250   251  252  \n",
       "0  7.31 -12.18 21.54 0.00  \n",
       "1 -0.69 -11.18 -0.46 0.00  \n",
       "2 -0.69 -12.18 -0.46 0.00  \n",
       "3 -0.69  -1.18 -0.46 0.00  \n",
       "4 -0.69 -12.18 -0.46 0.00  \n",
       "\n",
       "[5 rows x 258 columns]"
      ]
     },
     "execution_count": 58,
     "metadata": {},
     "output_type": "execute_result"
    }
   ],
   "source": [
    "df_features_train.head()"
   ]
  },
  {
   "cell_type": "code",
   "execution_count": 59,
   "id": "9c255774",
   "metadata": {},
   "outputs": [
    {
     "data": {
      "text/plain": [
       "id          0\n",
       "vas_id      0\n",
       "buy_time    0\n",
       "dtype: int64"
      ]
     },
     "execution_count": 59,
     "metadata": {},
     "output_type": "execute_result"
    }
   ],
   "source": [
    "# Проверка: вывод количества записей признаков, которые не совпадают с данными пользователей.\n",
    "df_features_test = df_features_test.rename(columns={'buy_time': 'buy_time_feature', 'buy_time_test': 'buy_time'})\n",
    "df_features_test.index = df_test.index\n",
    "(df_features_test[['id', 'vas_id', 'buy_time']] != df_test[['id', 'vas_id', 'buy_time']]).sum()"
   ]
  },
  {
   "cell_type": "code",
   "execution_count": 60,
   "id": "28ed088e",
   "metadata": {},
   "outputs": [
    {
     "data": {
      "text/html": [
       "<div>\n",
       "<style scoped>\n",
       "    .dataframe tbody tr th:only-of-type {\n",
       "        vertical-align: middle;\n",
       "    }\n",
       "\n",
       "    .dataframe tbody tr th {\n",
       "        vertical-align: top;\n",
       "    }\n",
       "\n",
       "    .dataframe thead th {\n",
       "        text-align: right;\n",
       "    }\n",
       "</style>\n",
       "<table border=\"1\" class=\"dataframe\">\n",
       "  <thead>\n",
       "    <tr style=\"text-align: right;\">\n",
       "      <th></th>\n",
       "      <th>id</th>\n",
       "      <th>vas_id</th>\n",
       "      <th>buy_time</th>\n",
       "      <th>buy_time_feature</th>\n",
       "      <th>0</th>\n",
       "      <th>1</th>\n",
       "      <th>2</th>\n",
       "      <th>3</th>\n",
       "      <th>4</th>\n",
       "      <th>5</th>\n",
       "      <th>...</th>\n",
       "      <th>243</th>\n",
       "      <th>244</th>\n",
       "      <th>245</th>\n",
       "      <th>246</th>\n",
       "      <th>247</th>\n",
       "      <th>248</th>\n",
       "      <th>249</th>\n",
       "      <th>250</th>\n",
       "      <th>251</th>\n",
       "      <th>252</th>\n",
       "    </tr>\n",
       "  </thead>\n",
       "  <tbody>\n",
       "    <tr>\n",
       "      <th>0</th>\n",
       "      <td>3130519</td>\n",
       "      <td>2.00</td>\n",
       "      <td>1548018000</td>\n",
       "      <td>1536526800</td>\n",
       "      <td>-62.90</td>\n",
       "      <td>-374.28</td>\n",
       "      <td>-72.60</td>\n",
       "      <td>-418.41</td>\n",
       "      <td>-78.02</td>\n",
       "      <td>-439.51</td>\n",
       "      <td>...</td>\n",
       "      <td>-970.37</td>\n",
       "      <td>-613.77</td>\n",
       "      <td>-26.00</td>\n",
       "      <td>-37.63</td>\n",
       "      <td>-258.75</td>\n",
       "      <td>-25.83</td>\n",
       "      <td>-0.69</td>\n",
       "      <td>-12.18</td>\n",
       "      <td>-0.46</td>\n",
       "      <td>0.00</td>\n",
       "    </tr>\n",
       "    <tr>\n",
       "      <th>1</th>\n",
       "      <td>2000860</td>\n",
       "      <td>4.00</td>\n",
       "      <td>1548018000</td>\n",
       "      <td>1532293200</td>\n",
       "      <td>-96.80</td>\n",
       "      <td>100.29</td>\n",
       "      <td>-110.74</td>\n",
       "      <td>140.90</td>\n",
       "      <td>-116.16</td>\n",
       "      <td>119.80</td>\n",
       "      <td>...</td>\n",
       "      <td>-977.37</td>\n",
       "      <td>-613.77</td>\n",
       "      <td>-26.00</td>\n",
       "      <td>-37.63</td>\n",
       "      <td>-254.75</td>\n",
       "      <td>-25.83</td>\n",
       "      <td>-0.69</td>\n",
       "      <td>-12.18</td>\n",
       "      <td>-0.46</td>\n",
       "      <td>0.00</td>\n",
       "    </tr>\n",
       "    <tr>\n",
       "      <th>2</th>\n",
       "      <td>1099444</td>\n",
       "      <td>2.00</td>\n",
       "      <td>1546808400</td>\n",
       "      <td>1541365200</td>\n",
       "      <td>-81.97</td>\n",
       "      <td>-390.73</td>\n",
       "      <td>-95.91</td>\n",
       "      <td>-443.34</td>\n",
       "      <td>-101.33</td>\n",
       "      <td>-464.44</td>\n",
       "      <td>...</td>\n",
       "      <td>-977.37</td>\n",
       "      <td>-613.77</td>\n",
       "      <td>-26.00</td>\n",
       "      <td>-37.63</td>\n",
       "      <td>-306.75</td>\n",
       "      <td>-25.83</td>\n",
       "      <td>-0.69</td>\n",
       "      <td>-12.18</td>\n",
       "      <td>-0.46</td>\n",
       "      <td>1.00</td>\n",
       "    </tr>\n",
       "    <tr>\n",
       "      <th>3</th>\n",
       "      <td>1343255</td>\n",
       "      <td>5.00</td>\n",
       "      <td>1547413200</td>\n",
       "      <td>1536526800</td>\n",
       "      <td>259.13</td>\n",
       "      <td>-52.25</td>\n",
       "      <td>245.19</td>\n",
       "      <td>-104.86</td>\n",
       "      <td>239.77</td>\n",
       "      <td>-125.96</td>\n",
       "      <td>...</td>\n",
       "      <td>-977.37</td>\n",
       "      <td>-613.77</td>\n",
       "      <td>-26.00</td>\n",
       "      <td>-37.63</td>\n",
       "      <td>-306.75</td>\n",
       "      <td>-25.83</td>\n",
       "      <td>-0.69</td>\n",
       "      <td>-12.18</td>\n",
       "      <td>-0.46</td>\n",
       "      <td>1.00</td>\n",
       "    </tr>\n",
       "    <tr>\n",
       "      <th>4</th>\n",
       "      <td>1277040</td>\n",
       "      <td>2.00</td>\n",
       "      <td>1546808400</td>\n",
       "      <td>1532293200</td>\n",
       "      <td>331.17</td>\n",
       "      <td>590.89</td>\n",
       "      <td>317.23</td>\n",
       "      <td>538.28</td>\n",
       "      <td>311.81</td>\n",
       "      <td>522.26</td>\n",
       "      <td>...</td>\n",
       "      <td>-651.37</td>\n",
       "      <td>-612.77</td>\n",
       "      <td>1.00</td>\n",
       "      <td>-36.63</td>\n",
       "      <td>38.25</td>\n",
       "      <td>-12.83</td>\n",
       "      <td>-0.69</td>\n",
       "      <td>-12.18</td>\n",
       "      <td>12.54</td>\n",
       "      <td>0.00</td>\n",
       "    </tr>\n",
       "  </tbody>\n",
       "</table>\n",
       "<p>5 rows × 257 columns</p>\n",
       "</div>"
      ],
      "text/plain": [
       "        id  vas_id    buy_time  buy_time_feature      0       1       2  \\\n",
       "0  3130519    2.00  1548018000        1536526800 -62.90 -374.28  -72.60   \n",
       "1  2000860    4.00  1548018000        1532293200 -96.80  100.29 -110.74   \n",
       "2  1099444    2.00  1546808400        1541365200 -81.97 -390.73  -95.91   \n",
       "3  1343255    5.00  1547413200        1536526800 259.13  -52.25  245.19   \n",
       "4  1277040    2.00  1546808400        1532293200 331.17  590.89  317.23   \n",
       "\n",
       "        3       4       5  ...     243     244    245    246     247    248  \\\n",
       "0 -418.41  -78.02 -439.51  ... -970.37 -613.77 -26.00 -37.63 -258.75 -25.83   \n",
       "1  140.90 -116.16  119.80  ... -977.37 -613.77 -26.00 -37.63 -254.75 -25.83   \n",
       "2 -443.34 -101.33 -464.44  ... -977.37 -613.77 -26.00 -37.63 -306.75 -25.83   \n",
       "3 -104.86  239.77 -125.96  ... -977.37 -613.77 -26.00 -37.63 -306.75 -25.83   \n",
       "4  538.28  311.81  522.26  ... -651.37 -612.77   1.00 -36.63   38.25 -12.83   \n",
       "\n",
       "    249    250   251  252  \n",
       "0 -0.69 -12.18 -0.46 0.00  \n",
       "1 -0.69 -12.18 -0.46 0.00  \n",
       "2 -0.69 -12.18 -0.46 1.00  \n",
       "3 -0.69 -12.18 -0.46 1.00  \n",
       "4 -0.69 -12.18 12.54 0.00  \n",
       "\n",
       "[5 rows x 257 columns]"
      ]
     },
     "execution_count": 60,
     "metadata": {},
     "output_type": "execute_result"
    }
   ],
   "source": [
    "df_features_test.head()"
   ]
  },
  {
   "cell_type": "markdown",
   "id": "a0cf5df5",
   "metadata": {},
   "source": [
    "Количество записей признаков пользователей для построения моделей машинного обучения совпадает с количеством данных о пользователях. Также наблюдается отсутствие отличий в соответствующих столбцах признаков и данных пользователей.\n",
    "\n",
    "**Выводы:**\n",
    "\n",
    "Данные загружены, проанализированы и подготовлены для построения моделей машинного обучения."
   ]
  },
  {
   "cell_type": "markdown",
   "id": "699e15f6",
   "metadata": {},
   "source": [
    "## Отбор признаков и построение модели"
   ]
  },
  {
   "cell_type": "markdown",
   "id": "a9b3fc21",
   "metadata": {},
   "source": [
    "### Анализ и отбор признаков"
   ]
  },
  {
   "cell_type": "code",
   "execution_count": 61,
   "id": "3fbd3559",
   "metadata": {},
   "outputs": [],
   "source": [
    "# Данные для обучения.\n",
    "X_train = df_features_train.drop(columns=['target']).copy()\n",
    "y_train = df_features_train['target'].astype('int').copy()\n",
    "\n",
    "# Данные для теста.\n",
    "X_test = df_features_test.copy()"
   ]
  },
  {
   "cell_type": "code",
   "execution_count": 62,
   "id": "f1c21578",
   "metadata": {},
   "outputs": [],
   "source": [
    "# Освобождение памяти.\n",
    "del df_features_train\n",
    "del df_features_test"
   ]
  },
  {
   "cell_type": "markdown",
   "id": "4e5f010b",
   "metadata": {},
   "source": [
    "#### Признаки \"id\", \"vas_id\", \"buy_time\", \"buy_time_feature\""
   ]
  },
  {
   "cell_type": "markdown",
   "id": "7c2a6ad1",
   "metadata": {},
   "source": [
    "Рассматриваемые признаки являются частью исходных данных.\n",
    "\n",
    "Признаки дата покупки <code>buy_time</code> и дата сбора признаков <code>buy_time_feature</code>, скорее всего, не представляют информационной ценности для модели и могут быть удалены.\n",
    "\n",
    "Идентификатор подключаемой услуги <code>vas_id</code> является категориальным признаком и полезен для построения модели, так как разные услуги имеют разные доли в даных. Этот факт позволяет предположить, что одни услуги могут быть более востребованы, чем другие.\n",
    "\n",
    "Идентификатор абонента <code>id</code> нуждается в проверке. Во-первых, данный признак является категориальным, так как каждый абонент имеет собственную историю и портрет клиента. Во-вторых, в тестовой выборке должны присутствовать те же самые абоненты, иначе модель не сможет качественно использовать данный признак."
   ]
  },
  {
   "cell_type": "code",
   "execution_count": 63,
   "id": "c79ead77",
   "metadata": {},
   "outputs": [
    {
     "name": "stdout",
     "output_type": "stream",
     "text": [
      "Доля абонентов тестовой выборки, которые присутствуют в обучающей выборке:\t5.92%\n"
     ]
    }
   ],
   "source": [
    "print(\n",
    "    f\"Доля абонентов тестовой выборки, которые присутствуют в обучающей выборке:\\t\"\n",
    "    f\"{(X_test['id'].isin(X_train['id'])).sum() / len(X_test['id']):.2%}\"\n",
    ")"
   ]
  },
  {
   "cell_type": "markdown",
   "id": "c22a4680",
   "metadata": {},
   "source": [
    "Менее шести процентов абонентов тестовой выборки присутствует в обучающей выборке. Модель не сможет сформировать портрет конкретных пользователей, а кодирование большого числа уникальных идентификаторов абонента затруднительно.\n",
    "\n",
    "Таким образом, дальнейшее использование идентификатора абонента <code>id</code> нецелесообразно.\n",
    "\n",
    "**Выводы:**\n",
    "\n",
    "Из рассматриваемых признаков может быть использован только идентификатор подключаемой услуги <code>vas_id</code>."
   ]
  },
  {
   "cell_type": "code",
   "execution_count": 64,
   "id": "72aba61f",
   "metadata": {},
   "outputs": [],
   "source": [
    "# Удаление неинформативных признаков.\n",
    "X_train = X_train.drop(columns=['id', 'buy_time', 'buy_time_feature']).copy()\n",
    "X_test = X_test.drop(columns=['id', 'buy_time', 'buy_time_feature']).copy()"
   ]
  },
  {
   "cell_type": "markdown",
   "id": "0e91eb55",
   "metadata": {},
   "source": [
    "#### Константные признаки"
   ]
  },
  {
   "cell_type": "code",
   "execution_count": 65,
   "id": "7df513cd",
   "metadata": {},
   "outputs": [
    {
     "data": {
      "text/plain": [
       "254"
      ]
     },
     "execution_count": 65,
     "metadata": {},
     "output_type": "execute_result"
    }
   ],
   "source": [
    "# Список признаков.\n",
    "list_features = [*X_train.columns]\n",
    "\n",
    "# Проверка: вывод длинны списка признаков.\n",
    "len(list_features)"
   ]
  },
  {
   "cell_type": "code",
   "execution_count": 66,
   "id": "a57aabd6",
   "metadata": {
    "scrolled": true
   },
   "outputs": [
    {
     "data": {
      "text/plain": [
       "5"
      ]
     },
     "execution_count": 66,
     "metadata": {},
     "output_type": "execute_result"
    }
   ],
   "source": [
    "# Проверка наличия константных признаков.\n",
    "(X_train[list_features].nunique() == 1).sum()"
   ]
  },
  {
   "cell_type": "code",
   "execution_count": 67,
   "id": "347c4c23",
   "metadata": {
    "scrolled": true
   },
   "outputs": [
    {
     "data": {
      "text/plain": [
       "5"
      ]
     },
     "execution_count": 67,
     "metadata": {},
     "output_type": "execute_result"
    }
   ],
   "source": [
    "# Список константных признаков.\n",
    "list_features_const = [*X_train[list_features].nunique()[X_train[list_features].nunique() == 1].index]\n",
    "\n",
    "# Список остальных признаков.\n",
    "list_features_others = [feature for feature in list_features if feature not in list_features_const]\n",
    "\n",
    "# Проверка: вывод длинны списка константных признаков.\n",
    "len(list_features_const)"
   ]
  },
  {
   "cell_type": "markdown",
   "id": "49f7b56e",
   "metadata": {},
   "source": [
    "Данные признаки не представляют ценности и могут быть исключены."
   ]
  },
  {
   "cell_type": "markdown",
   "id": "6a3399e1",
   "metadata": {},
   "source": [
    "#### Бинарные признаки"
   ]
  },
  {
   "cell_type": "code",
   "execution_count": 68,
   "id": "c8a26403",
   "metadata": {},
   "outputs": [
    {
     "data": {
      "text/plain": [
       "20"
      ]
     },
     "execution_count": 68,
     "metadata": {},
     "output_type": "execute_result"
    }
   ],
   "source": [
    "# Проверка наличия бинарных признаков.\n",
    "(X_train[list_features].nunique() == 2).sum()"
   ]
  },
  {
   "cell_type": "code",
   "execution_count": 69,
   "id": "7633412a",
   "metadata": {},
   "outputs": [
    {
     "data": {
      "text/plain": [
       "20"
      ]
     },
     "execution_count": 69,
     "metadata": {},
     "output_type": "execute_result"
    }
   ],
   "source": [
    "# Список бинарных признаков.\n",
    "list_features_bool = [*X_train[list_features_others].nunique()[X_train[list_features_others].nunique() == 2].index]\n",
    "\n",
    "# Список остальных признаков.\n",
    "list_features_others = [feature for feature in list_features_others if feature not in list_features_bool]\n",
    "\n",
    "# Проверка: вывод длинны списка бинарных признаков.\n",
    "len(list_features_bool)"
   ]
  },
  {
   "cell_type": "markdown",
   "id": "6b4e9a99",
   "metadata": {},
   "source": [
    "Данные признаки имеют только два уникальных значения, то есть являются бинарными. Возможна кодировка данных признаков."
   ]
  },
  {
   "cell_type": "markdown",
   "id": "3796b70c",
   "metadata": {},
   "source": [
    "#### Категориальные признаки"
   ]
  },
  {
   "cell_type": "code",
   "execution_count": 70,
   "id": "e4527e14",
   "metadata": {},
   "outputs": [
    {
     "data": {
      "text/plain": [
       "10"
      ]
     },
     "execution_count": 70,
     "metadata": {},
     "output_type": "execute_result"
    }
   ],
   "source": [
    "# Проверка наличия категориальных признаков.\n",
    "(X_train[list_features_others].nunique() <= 10).sum()"
   ]
  },
  {
   "cell_type": "code",
   "execution_count": 71,
   "id": "3c84b5dc",
   "metadata": {
    "scrolled": true
   },
   "outputs": [
    {
     "data": {
      "text/plain": [
       "10"
      ]
     },
     "execution_count": 71,
     "metadata": {},
     "output_type": "execute_result"
    }
   ],
   "source": [
    "# Список категориальных признаков.\n",
    "list_features_cat = [*X_train[list_features_others].nunique()[X_train[list_features_others].nunique() <= 10].index]\n",
    "\n",
    "# Список остальных признаков.\n",
    "list_features_others = [feature for feature in list_features_others if feature not in list_features_cat]\n",
    "\n",
    "# Проверка: вывод длинны списка категориальных признаков.\n",
    "len(list_features_cat)"
   ]
  },
  {
   "cell_type": "markdown",
   "id": "db21a027",
   "metadata": {},
   "source": [
    "Данные признаки имеют до десяти уникальных значений и также могут быть закодированы."
   ]
  },
  {
   "cell_type": "markdown",
   "id": "a06ea0b6",
   "metadata": {},
   "source": [
    "#### Вещественные признаки"
   ]
  },
  {
   "cell_type": "code",
   "execution_count": 72,
   "id": "fe8613fd",
   "metadata": {
    "scrolled": true
   },
   "outputs": [
    {
     "data": {
      "text/plain": [
       "215"
      ]
     },
     "execution_count": 72,
     "metadata": {},
     "output_type": "execute_result"
    }
   ],
   "source": [
    "# Проверка наличия вещественных признаков.\n",
    "((X_train[list_features_others] - np.round(X_train[list_features_others])).sum() != 0).sum()"
   ]
  },
  {
   "cell_type": "code",
   "execution_count": 73,
   "id": "1e642504",
   "metadata": {
    "scrolled": true
   },
   "outputs": [
    {
     "data": {
      "text/plain": [
       "215"
      ]
     },
     "execution_count": 73,
     "metadata": {},
     "output_type": "execute_result"
    }
   ],
   "source": [
    "# Список вещественных признаков.\n",
    "list_features_num = [*((X_train[list_features_others] - X_train[list_features_others].astype(int)).sum() != 0)[\n",
    "    (X_train[list_features_others] - X_train[list_features_others].astype(int)).sum() != 0    \n",
    "].index]\n",
    "\n",
    "# Список остальных признаков.\n",
    "list_features_others = [feature for feature in list_features_others if feature not in list_features_num]\n",
    "\n",
    "# Проверка: вывод длинны списка вещественных признаков.\n",
    "len(list_features_num)"
   ]
  },
  {
   "cell_type": "markdown",
   "id": "ff6b92d1",
   "metadata": {},
   "source": [
    "Данные признаки являются вещественными.\n",
    "\n",
    "При использовании линейных моделей их следует стандартизировать."
   ]
  },
  {
   "cell_type": "markdown",
   "id": "88f00609",
   "metadata": {},
   "source": [
    "#### Остальные признаки"
   ]
  },
  {
   "cell_type": "code",
   "execution_count": 74,
   "id": "e340aae5",
   "metadata": {},
   "outputs": [
    {
     "data": {
      "text/plain": [
       "222      205\n",
       "224    73292\n",
       "225    61745\n",
       "252       30\n",
       "dtype: int64"
      ]
     },
     "execution_count": 74,
     "metadata": {},
     "output_type": "execute_result"
    }
   ],
   "source": [
    "# Количество уникальных значений остальных признаков.\n",
    "X_train[list_features_others].nunique()"
   ]
  },
  {
   "cell_type": "code",
   "execution_count": 75,
   "id": "e9e90b8e",
   "metadata": {},
   "outputs": [
    {
     "data": {
      "text/html": [
       "<div>\n",
       "<style scoped>\n",
       "    .dataframe tbody tr th:only-of-type {\n",
       "        vertical-align: middle;\n",
       "    }\n",
       "\n",
       "    .dataframe tbody tr th {\n",
       "        vertical-align: top;\n",
       "    }\n",
       "\n",
       "    .dataframe thead th {\n",
       "        text-align: right;\n",
       "    }\n",
       "</style>\n",
       "<table border=\"1\" class=\"dataframe\">\n",
       "  <thead>\n",
       "    <tr style=\"text-align: right;\">\n",
       "      <th></th>\n",
       "      <th>count</th>\n",
       "      <th>mean</th>\n",
       "      <th>std</th>\n",
       "      <th>min</th>\n",
       "      <th>25%</th>\n",
       "      <th>50%</th>\n",
       "      <th>75%</th>\n",
       "      <th>max</th>\n",
       "    </tr>\n",
       "  </thead>\n",
       "  <tbody>\n",
       "    <tr>\n",
       "      <th>222</th>\n",
       "      <td>831653.00</td>\n",
       "      <td>-402796.80</td>\n",
       "      <td>744246461.57</td>\n",
       "      <td>-572669500.00</td>\n",
       "      <td>-572669500.00</td>\n",
       "      <td>-572669500.00</td>\n",
       "      <td>964202900.00</td>\n",
       "      <td>975866900.00</td>\n",
       "    </tr>\n",
       "    <tr>\n",
       "      <th>224</th>\n",
       "      <td>831653.00</td>\n",
       "      <td>1637454.08</td>\n",
       "      <td>681407752.89</td>\n",
       "      <td>-440560420.00</td>\n",
       "      <td>-440560420.00</td>\n",
       "      <td>-440560420.00</td>\n",
       "      <td>1009052740.00</td>\n",
       "      <td>1108044400.00</td>\n",
       "    </tr>\n",
       "    <tr>\n",
       "      <th>225</th>\n",
       "      <td>831653.00</td>\n",
       "      <td>7470.94</td>\n",
       "      <td>404335314.48</td>\n",
       "      <td>-120441800.00</td>\n",
       "      <td>-120441800.00</td>\n",
       "      <td>-120441800.00</td>\n",
       "      <td>-120441800.00</td>\n",
       "      <td>1428136800.00</td>\n",
       "    </tr>\n",
       "    <tr>\n",
       "      <th>252</th>\n",
       "      <td>831653.00</td>\n",
       "      <td>0.26</td>\n",
       "      <td>2.10</td>\n",
       "      <td>0.00</td>\n",
       "      <td>0.00</td>\n",
       "      <td>0.00</td>\n",
       "      <td>1.00</td>\n",
       "      <td>1743.00</td>\n",
       "    </tr>\n",
       "  </tbody>\n",
       "</table>\n",
       "</div>"
      ],
      "text/plain": [
       "        count       mean          std           min           25%  \\\n",
       "222 831653.00 -402796.80 744246461.57 -572669500.00 -572669500.00   \n",
       "224 831653.00 1637454.08 681407752.89 -440560420.00 -440560420.00   \n",
       "225 831653.00    7470.94 404335314.48 -120441800.00 -120441800.00   \n",
       "252 831653.00       0.26         2.10          0.00          0.00   \n",
       "\n",
       "              50%           75%           max  \n",
       "222 -572669500.00  964202900.00  975866900.00  \n",
       "224 -440560420.00 1009052740.00 1108044400.00  \n",
       "225 -120441800.00 -120441800.00 1428136800.00  \n",
       "252          0.00          1.00       1743.00  "
      ]
     },
     "execution_count": 75,
     "metadata": {},
     "output_type": "execute_result"
    }
   ],
   "source": [
    "# Вывод основных статистик остальных признаков.\n",
    "X_train[list_features_others].describe().T"
   ]
  },
  {
   "cell_type": "code",
   "execution_count": 76,
   "id": "b31edda7",
   "metadata": {},
   "outputs": [
    {
     "name": "stdout",
     "output_type": "stream",
     "text": [
      "<class 'pandas.core.frame.DataFrame'>\n",
      "RangeIndex: 831653 entries, 0 to 831652\n",
      "Data columns (total 4 columns):\n",
      " #   Column  Non-Null Count   Dtype  \n",
      "---  ------  --------------   -----  \n",
      " 0   222     831653 non-null  float64\n",
      " 1   224     831653 non-null  float64\n",
      " 2   225     831653 non-null  float64\n",
      " 3   252     831653 non-null  float64\n",
      "dtypes: float64(4)\n",
      "memory usage: 25.4 MB\n"
     ]
    }
   ],
   "source": [
    "# Вывод информации об остальных признаках.\n",
    "X_train[list_features_others].info()"
   ]
  },
  {
   "cell_type": "markdown",
   "id": "64cb3c15",
   "metadata": {},
   "source": [
    "Анализ основных статистик и количества уникальных значений показывает, что данные признаки можно использовать как категориальные."
   ]
  },
  {
   "cell_type": "markdown",
   "id": "ecc241a5",
   "metadata": {},
   "source": [
    "### Построение и оценка модели"
   ]
  },
  {
   "cell_type": "markdown",
   "id": "27bebe5b",
   "metadata": {},
   "source": [
    "#### Инструмент для отбора признаков"
   ]
  },
  {
   "cell_type": "code",
   "execution_count": 77,
   "id": "0cc2ad0d",
   "metadata": {},
   "outputs": [],
   "source": [
    "# Инструмент для отбора признаков.\n",
    "class ColumnSelector(BaseEstimator, TransformerMixin):\n",
    "    def __init__(self, columns):\n",
    "        self.columns = columns\n",
    "    \n",
    "    def fit(self, X, y=None):\n",
    "        return self\n",
    "    \n",
    "    def transform(self, X, y=None):\n",
    "        return X[self.columns]"
   ]
  },
  {
   "cell_type": "code",
   "execution_count": 78,
   "id": "98821849",
   "metadata": {},
   "outputs": [
    {
     "data": {
      "text/html": [
       "<div>\n",
       "<style scoped>\n",
       "    .dataframe tbody tr th:only-of-type {\n",
       "        vertical-align: middle;\n",
       "    }\n",
       "\n",
       "    .dataframe tbody tr th {\n",
       "        vertical-align: top;\n",
       "    }\n",
       "\n",
       "    .dataframe thead th {\n",
       "        text-align: right;\n",
       "    }\n",
       "</style>\n",
       "<table border=\"1\" class=\"dataframe\">\n",
       "  <thead>\n",
       "    <tr style=\"text-align: right;\">\n",
       "      <th></th>\n",
       "      <th>75</th>\n",
       "      <th>81</th>\n",
       "      <th>85</th>\n",
       "      <th>139</th>\n",
       "      <th>203</th>\n",
       "    </tr>\n",
       "  </thead>\n",
       "  <tbody>\n",
       "    <tr>\n",
       "      <th>0</th>\n",
       "      <td>0.00</td>\n",
       "      <td>0.00</td>\n",
       "      <td>0.00</td>\n",
       "      <td>0.00</td>\n",
       "      <td>0.00</td>\n",
       "    </tr>\n",
       "    <tr>\n",
       "      <th>1</th>\n",
       "      <td>0.00</td>\n",
       "      <td>0.00</td>\n",
       "      <td>0.00</td>\n",
       "      <td>0.00</td>\n",
       "      <td>0.00</td>\n",
       "    </tr>\n",
       "    <tr>\n",
       "      <th>2</th>\n",
       "      <td>0.00</td>\n",
       "      <td>0.00</td>\n",
       "      <td>0.00</td>\n",
       "      <td>0.00</td>\n",
       "      <td>0.00</td>\n",
       "    </tr>\n",
       "    <tr>\n",
       "      <th>3</th>\n",
       "      <td>0.00</td>\n",
       "      <td>0.00</td>\n",
       "      <td>0.00</td>\n",
       "      <td>0.00</td>\n",
       "      <td>0.00</td>\n",
       "    </tr>\n",
       "    <tr>\n",
       "      <th>4</th>\n",
       "      <td>0.00</td>\n",
       "      <td>0.00</td>\n",
       "      <td>0.00</td>\n",
       "      <td>0.00</td>\n",
       "      <td>0.00</td>\n",
       "    </tr>\n",
       "  </tbody>\n",
       "</table>\n",
       "</div>"
      ],
      "text/plain": [
       "    75   81   85  139  203\n",
       "0 0.00 0.00 0.00 0.00 0.00\n",
       "1 0.00 0.00 0.00 0.00 0.00\n",
       "2 0.00 0.00 0.00 0.00 0.00\n",
       "3 0.00 0.00 0.00 0.00 0.00\n",
       "4 0.00 0.00 0.00 0.00 0.00"
      ]
     },
     "execution_count": 78,
     "metadata": {},
     "output_type": "execute_result"
    }
   ],
   "source": [
    "# Проверка: отбор константных признаков и вывод первых пяти строк.\n",
    "cs = ColumnSelector(list_features_const)\n",
    "cs.fit(X_train, y_train)\n",
    "cs.transform(X_train, y_train).head()"
   ]
  },
  {
   "cell_type": "markdown",
   "id": "9122a7f3",
   "metadata": {},
   "source": [
    "#### Построение пайплайна"
   ]
  },
  {
   "cell_type": "markdown",
   "id": "14c125e6",
   "metadata": {},
   "source": [
    "Для решения поставленной задачи будет использоваться одна из наиболее мощных моделей - <code>CatBoostClassifier</code>.\n",
    "\n",
    "Данная модель представляет собой усовершенствованную версию градиентного бустинга. Она умеет работать как с непрерывными признаками, так и с категориальными. Однако будет выполнена подготовка данных для модели, так как теоретически это может улучшить качество прогнозирования."
   ]
  },
  {
   "cell_type": "code",
   "execution_count": 79,
   "id": "65190d98",
   "metadata": {
    "scrolled": false
   },
   "outputs": [],
   "source": [
    "# Пайплайн для обработки категориальных признаков.\n",
    "pipe_cat = Pipeline([\n",
    "    ('select_cat_features', ColumnSelector(['vas_id'] + list_features_bool + list_features_cat)),\n",
    "    ('encoding_cat_features', OneHotEncoder(drop='first', handle_unknown='ignore'))\n",
    "])\n",
    "\n",
    "# Пайплайн для обработки вещественных признаков.\n",
    "pipe_num = Pipeline([\n",
    "    ('select_num_features', ColumnSelector(list_features_num + list_features_others)),\n",
    "    ('standard_num_features', StandardScaler())\n",
    "])\n",
    "\n",
    "# Объединение признаков после обработки.\n",
    "fu_processing = FeatureUnion([\n",
    "    ('pipe_cat', pipe_cat),\n",
    "    ('pipe_num', pipe_num)\n",
    "], n_jobs=-1)\n",
    "\n",
    "# Пайплайн с моделью.\n",
    "pipe_model = Pipeline([\n",
    "    ('features', fu_processing),\n",
    "    ('model', CatBoostClassifier(task_type='GPU',\n",
    "                                 silent=True,\n",
    "                                 auto_class_weights='Balanced',\n",
    "                                 thread_count=-1,\n",
    "                                 random_state=GLOBAL__RANDOM_STATE))\n",
    "])"
   ]
  },
  {
   "cell_type": "markdown",
   "id": "bcea1d47",
   "metadata": {},
   "source": [
    "#### Подготовка данных для валидации"
   ]
  },
  {
   "cell_type": "code",
   "execution_count": 80,
   "id": "35f9ab55",
   "metadata": {},
   "outputs": [
    {
     "data": {
      "text/plain": [
       "((623739, 254), (207914, 254), (623739,), (207914,))"
      ]
     },
     "execution_count": 80,
     "metadata": {},
     "output_type": "execute_result"
    }
   ],
   "source": [
    "# Разбиение данных на обучающую и валидационную выборки.\n",
    "X_train, X_valid, y_train, y_valid = train_test_split(X_train,\n",
    "                                                      y_train,\n",
    "                                                      test_size=0.25,\n",
    "                                                      random_state=GLOBAL__RANDOM_STATE,\n",
    "                                                      stratify=y_train)\n",
    "\n",
    "# Проверка: вывод размерностей выборок.\n",
    "X_train.shape, X_valid.shape, y_train.shape, y_valid.shape"
   ]
  },
  {
   "cell_type": "markdown",
   "id": "e9fc6637",
   "metadata": {},
   "source": [
    "#### Построение и валидация модели"
   ]
  },
  {
   "cell_type": "code",
   "execution_count": 81,
   "id": "2310a3f8",
   "metadata": {},
   "outputs": [
    {
     "name": "stdout",
     "output_type": "stream",
     "text": [
      "Wall time: 30.9 s\n"
     ]
    },
    {
     "data": {
      "text/plain": [
       "Pipeline(steps=[('features',\n",
       "                 FeatureUnion(n_jobs=-1,\n",
       "                              transformer_list=[('pipe_cat',\n",
       "                                                 Pipeline(steps=[('select_cat_features',\n",
       "                                                                  ColumnSelector(columns=['vas_id',\n",
       "                                                                                          '26',\n",
       "                                                                                          '27',\n",
       "                                                                                          '31',\n",
       "                                                                                          '32',\n",
       "                                                                                          '33',\n",
       "                                                                                          '57',\n",
       "                                                                                          '132',\n",
       "                                                                                          '192',\n",
       "                                                                                          '194',\n",
       "                                                                                          '195',\n",
       "                                                                                          '196',\n",
       "                                                                                          '197',\n",
       "                                                                                          '198',\n",
       "                                                                                          '199',\n",
       "                                                                                          '200',\n",
       "                                                                                          '201',\n",
       "                                                                                          '202',\n",
       "                                                                                          '204',\n",
       "                                                                                          '205',\n",
       "                                                                                          '206',\n",
       "                                                                                          'vas_id',\n",
       "                                                                                          '15',\n",
       "                                                                                          '23',\n",
       "                                                                                          '29',\n",
       "                                                                                          '30',\n",
       "                                                                                          '95',\n",
       "                                                                                          '131',\n",
       "                                                                                          '154',\n",
       "                                                                                          '216', ...])),\n",
       "                                                                 ('encoding_cat_features'...\n",
       "                                                                                handle_unknown='ignore'))])),\n",
       "                                                ('pipe_num',\n",
       "                                                 Pipeline(steps=[('select_num_features',\n",
       "                                                                  ColumnSelector(columns=['0',\n",
       "                                                                                          '1',\n",
       "                                                                                          '2',\n",
       "                                                                                          '3',\n",
       "                                                                                          '4',\n",
       "                                                                                          '5',\n",
       "                                                                                          '6',\n",
       "                                                                                          '7',\n",
       "                                                                                          '8',\n",
       "                                                                                          '9',\n",
       "                                                                                          '10',\n",
       "                                                                                          '11',\n",
       "                                                                                          '12',\n",
       "                                                                                          '13',\n",
       "                                                                                          '14',\n",
       "                                                                                          '16',\n",
       "                                                                                          '17',\n",
       "                                                                                          '18',\n",
       "                                                                                          '19',\n",
       "                                                                                          '20',\n",
       "                                                                                          '21',\n",
       "                                                                                          '22',\n",
       "                                                                                          '24',\n",
       "                                                                                          '25',\n",
       "                                                                                          '28',\n",
       "                                                                                          '34',\n",
       "                                                                                          '35',\n",
       "                                                                                          '36',\n",
       "                                                                                          '37',\n",
       "                                                                                          '38', ...])),\n",
       "                                                                 ('standard_num_features',\n",
       "                                                                  StandardScaler())]))])),\n",
       "                ('model',\n",
       "                 <catboost.core.CatBoostClassifier object at 0x00000136A9DEA370>)])"
      ]
     },
     "execution_count": 81,
     "metadata": {},
     "output_type": "execute_result"
    }
   ],
   "source": [
    "%%time\n",
    "\n",
    "# Построение модели.\n",
    "pipe_model.fit(X_train, y_train)"
   ]
  },
  {
   "cell_type": "code",
   "execution_count": 82,
   "id": "264fb126",
   "metadata": {},
   "outputs": [
    {
     "name": "stdout",
     "output_type": "stream",
     "text": [
      "Wall time: 4.62 s\n"
     ]
    }
   ],
   "source": [
    "%%time\n",
    "\n",
    "# Прогноз на валидационной выборке.\n",
    "y_pred_valid = pipe_model.predict(X_valid)"
   ]
  },
  {
   "cell_type": "code",
   "execution_count": 83,
   "id": "98c7d06e",
   "metadata": {},
   "outputs": [
    {
     "name": "stdout",
     "output_type": "stream",
     "text": [
      "              precision    recall  f1-score   support\n",
      "\n",
      "           0       0.98      0.87      0.92    192867\n",
      "           1       0.32      0.79      0.45     15047\n",
      "\n",
      "    accuracy                           0.86    207914\n",
      "   macro avg       0.65      0.83      0.69    207914\n",
      "weighted avg       0.93      0.86      0.89    207914\n",
      "\n"
     ]
    }
   ],
   "source": [
    "# Вывод метрик качества прогноза на валидационной выборке.\n",
    "print(classification_report(y_valid, y_pred_valid))"
   ]
  },
  {
   "cell_type": "markdown",
   "id": "4e8006d6",
   "metadata": {},
   "source": [
    "Из-за дисбаланса классов целевой переменной модель демонстрируют трудности с метрикой <code>precision</code> наименьшего класса.\n",
    "\n",
    "Из всех предсказанных подключений услуг только ~32% оказались предсказаны правильно."
   ]
  },
  {
   "cell_type": "markdown",
   "id": "a145fc3f",
   "metadata": {},
   "source": [
    "#### Построение и анализ графиков"
   ]
  },
  {
   "cell_type": "code",
   "execution_count": 84,
   "id": "af05a0f3",
   "metadata": {},
   "outputs": [
    {
     "name": "stdout",
     "output_type": "stream",
     "text": [
      "Wall time: 4.46 s\n"
     ]
    }
   ],
   "source": [
    "%%time\n",
    "\n",
    "# Прогноз на валидационной выборке.\n",
    "y_predict_proba = pipe_model.predict_proba(X_valid)"
   ]
  },
  {
   "cell_type": "code",
   "execution_count": 85,
   "id": "aef775c3",
   "metadata": {},
   "outputs": [],
   "source": [
    "# Вычисление метрик и порогов.\n",
    "fpr, tpr, roc_thresholds = roc_curve(y_valid, y_predict_proba[:, 1])\n",
    "precision, recall, pr_thresholds = precision_recall_curve(y_valid, y_predict_proba[:, 1])"
   ]
  },
  {
   "cell_type": "code",
   "execution_count": 86,
   "id": "fe4722a3",
   "metadata": {},
   "outputs": [
    {
     "name": "stdout",
     "output_type": "stream",
     "text": [
      "CatBoostClassifier: AUC_ROC = 0.843\n"
     ]
    },
    {
     "data": {
      "image/png": "[encoded data removed]",
      "text/plain": [
       "<Figure size 576x576 with 1 Axes>"
      ]
     },
     "metadata": {
      "needs_background": "light"
     },
     "output_type": "display_data"
    }
   ],
   "source": [
    "# Построение графика \"ROC AUC curve\"\n",
    "plt.figure(figsize=(8, 8))\n",
    "plt.plot(fpr, tpr, color='r', label='CatBoostClassifier')\n",
    "plt.plot([0, 1], [0, 1], 'k--')\n",
    "plt.axis([0.0, 1.0, 0.0, 1.0])\n",
    "plt.grid()\n",
    "\n",
    "plt.xticks(list(map(lambda x: x / 10, range(1, 11, 1))))\n",
    "plt.yticks(list(map(lambda x: x / 10, range(1, 11, 1))))\n",
    "\n",
    "plt.title('Receiver operating characteristic curve', fontdict={'size': 16})\n",
    "plt.xlabel('False Positive Rate', fontdict={'size': 14})\n",
    "plt.ylabel('True Positive Rate', fontdict={'size': 14})\n",
    "plt.legend(loc=\"lower right\", prop={'size': 16})\n",
    "\n",
    "print(f\"CatBoostClassifier: AUC_ROC = {auc(fpr, tpr):.3}\")"
   ]
  },
  {
   "cell_type": "code",
   "execution_count": 87,
   "id": "224dc4ed",
   "metadata": {
    "scrolled": false
   },
   "outputs": [
    {
     "name": "stdout",
     "output_type": "stream",
     "text": [
      "CatBoostClassifier: AUC_PR = 0.343\n"
     ]
    },
    {
     "data": {
      "image/png": "[encoded data removed]",
      "text/plain": [
       "<Figure size 576x576 with 1 Axes>"
      ]
     },
     "metadata": {
      "needs_background": "light"
     },
     "output_type": "display_data"
    }
   ],
   "source": [
    "# Построение графика \"Precision-Recall curve\"\n",
    "plt.figure(figsize=(8, 8))\n",
    "plt.plot(recall, precision, label='CatBoostClassifier', color='r')\n",
    "plt.axis([0.0, 1.0, 0.0, 1.0])\n",
    "plt.grid()\n",
    "\n",
    "plt.xticks(list(map(lambda x: x / 10, range(1, 11, 1))))\n",
    "plt.yticks(list(map(lambda x: x / 10, range(1, 11, 1))))\n",
    "\n",
    "plt.title(\"Precision-Recall curve\", fontdict={'size': 16})\n",
    "plt.xlabel('Recall', fontdict={'size': 14})\n",
    "plt.ylabel('Precision', fontdict={'size': 14})\n",
    "plt.legend(prop={'size': 16})\n",
    "\n",
    "print(f\"CatBoostClassifier: AUC_PR = {auc(recall, precision):.3}\")"
   ]
  },
  {
   "cell_type": "markdown",
   "id": "98e90839",
   "metadata": {},
   "source": [
    "Согласно графику \"ROC AUC curve\", модель демонстрирует качество значительно лучшее, чем качество случайного классификатора. Таким образом, применение модели целесообразно.\n",
    "\n",
    "Анализ графика \"Precision-Recall curve\" показывает значительное падение метрики \"Precision\" после порога метрики \"Recall\" = ~0.78. Фиксация \"Recall\" на данном пороге позволит получить максимальное качество прогнозирования."
   ]
  },
  {
   "cell_type": "markdown",
   "id": "88eea962",
   "metadata": {},
   "source": [
    "### Прогноз на тестовой выборке"
   ]
  },
  {
   "cell_type": "code",
   "execution_count": 88,
   "id": "dfc1b623",
   "metadata": {},
   "outputs": [
    {
     "name": "stdout",
     "output_type": "stream",
     "text": [
      "Wall time: 1.79 s\n"
     ]
    }
   ],
   "source": [
    "%%time\n",
    "\n",
    "# Предсказание вероятностей на тестовых данных.\n",
    "y_pred = pipe_model.predict_proba(X_test)"
   ]
  },
  {
   "cell_type": "code",
   "execution_count": 89,
   "id": "fe6b7eb1",
   "metadata": {},
   "outputs": [
    {
     "data": {
      "text/html": [
       "<div>\n",
       "<style scoped>\n",
       "    .dataframe tbody tr th:only-of-type {\n",
       "        vertical-align: middle;\n",
       "    }\n",
       "\n",
       "    .dataframe tbody tr th {\n",
       "        vertical-align: top;\n",
       "    }\n",
       "\n",
       "    .dataframe thead th {\n",
       "        text-align: right;\n",
       "    }\n",
       "</style>\n",
       "<table border=\"1\" class=\"dataframe\">\n",
       "  <thead>\n",
       "    <tr style=\"text-align: right;\">\n",
       "      <th></th>\n",
       "      <th>id</th>\n",
       "      <th>vas_id</th>\n",
       "      <th>buy_time</th>\n",
       "      <th>target</th>\n",
       "    </tr>\n",
       "  </thead>\n",
       "  <tbody>\n",
       "    <tr>\n",
       "      <th>0</th>\n",
       "      <td>3130519</td>\n",
       "      <td>2.00</td>\n",
       "      <td>1548018000</td>\n",
       "      <td>0.16</td>\n",
       "    </tr>\n",
       "    <tr>\n",
       "      <th>1</th>\n",
       "      <td>2000860</td>\n",
       "      <td>4.00</td>\n",
       "      <td>1548018000</td>\n",
       "      <td>0.82</td>\n",
       "    </tr>\n",
       "    <tr>\n",
       "      <th>2</th>\n",
       "      <td>1099444</td>\n",
       "      <td>2.00</td>\n",
       "      <td>1546808400</td>\n",
       "      <td>0.22</td>\n",
       "    </tr>\n",
       "    <tr>\n",
       "      <th>3</th>\n",
       "      <td>1343255</td>\n",
       "      <td>5.00</td>\n",
       "      <td>1547413200</td>\n",
       "      <td>0.19</td>\n",
       "    </tr>\n",
       "    <tr>\n",
       "      <th>4</th>\n",
       "      <td>1277040</td>\n",
       "      <td>2.00</td>\n",
       "      <td>1546808400</td>\n",
       "      <td>0.21</td>\n",
       "    </tr>\n",
       "  </tbody>\n",
       "</table>\n",
       "</div>"
      ],
      "text/plain": [
       "        id  vas_id    buy_time  target\n",
       "0  3130519    2.00  1548018000    0.16\n",
       "1  2000860    4.00  1548018000    0.82\n",
       "2  1099444    2.00  1546808400    0.22\n",
       "3  1343255    5.00  1547413200    0.19\n",
       "4  1277040    2.00  1546808400    0.21"
      ]
     },
     "execution_count": 89,
     "metadata": {},
     "output_type": "execute_result"
    }
   ],
   "source": [
    "# Запись вероятности подключения \n",
    "df_test['target'] = y_pred[:, 1]\n",
    "\n",
    "# Проверка: вывод первых пяти строк тестовых данных.\n",
    "df_test.head()"
   ]
  },
  {
   "cell_type": "code",
   "execution_count": 90,
   "id": "2b2bf544",
   "metadata": {},
   "outputs": [],
   "source": [
    "# Запись прогноза в файл.\n",
    "df_test.to_csv(PATH_DATA__ANSWERS, index=False)"
   ]
  },
  {
   "cell_type": "code",
   "execution_count": 91,
   "id": "c482c876",
   "metadata": {},
   "outputs": [],
   "source": [
    "# Запись модели в файл.\n",
    "with open(file=PATH_MODEL, mode='wb') as file_model:\n",
    "    pickle.dump(file=file_model, obj=pipe_model)"
   ]
  },
  {
   "cell_type": "code",
   "execution_count": null,
   "id": "3b5b6b6b",
   "metadata": {},
   "outputs": [],
   "source": []
  }
 ],
 "metadata": {
  "kernelspec": {
   "display_name": "Python 3 (ipykernel)",
   "language": "python",
   "name": "python3"
  },
  "language_info": {
   "codemirror_mode": {
    "name": "ipython",
    "version": 3
   },
   "file_extension": ".py",
   "mimetype": "text/x-python",
   "name": "python",
   "nbconvert_exporter": "python",
   "pygments_lexer": "ipython3",
   "version": "3.9.4"
  }
 },
 "nbformat": 4,
 "nbformat_minor": 5
}
